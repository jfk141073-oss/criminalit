{
 "cells": [
  {
   "cell_type": "code",
   "execution_count": 1,
   "id": "d48bc098",
   "metadata": {},
   "outputs": [],
   "source": [
    "import pandas as pd \n",
    "import numpy as np \n",
    "import seaborn as sns\n",
    "import matplotlib.pyplot as plt \n",
    "import scipy.stats as stats \n",
    "\n",
    "from sklearn.model_selection import train_test_split\n",
    "from sklearn.preprocessing import StandardScaler, OneHotEncoder\n",
    "from sklearn.compose import ColumnTransformer\n",
    "from sklearn.linear_model import LogisticRegression\n",
    "from sklearn.tree import DecisionTreeRegressor\n",
    "from sklearn.ensemble import RandomForestRegressor\n",
    "from sklearn.metrics import mean_squared_error, r2_score"
   ]
  },
  {
   "cell_type": "code",
   "execution_count": 2,
   "id": "a14d7104",
   "metadata": {},
   "outputs": [
    {
     "data": {
      "text/html": [
       "<div>\n",
       "<style scoped>\n",
       "    .dataframe tbody tr th:only-of-type {\n",
       "        vertical-align: middle;\n",
       "    }\n",
       "\n",
       "    .dataframe tbody tr th {\n",
       "        vertical-align: top;\n",
       "    }\n",
       "\n",
       "    .dataframe thead th {\n",
       "        text-align: right;\n",
       "    }\n",
       "</style>\n",
       "<table border=\"1\" class=\"dataframe\">\n",
       "  <thead>\n",
       "    <tr style=\"text-align: right;\">\n",
       "      <th></th>\n",
       "      <th>Unnamed: 0</th>\n",
       "      <th>departement</th>\n",
       "      <th>tx_pauvrete</th>\n",
       "      <th>revenu_median</th>\n",
       "      <th>revenu_moyen</th>\n",
       "      <th>tx_crim_pour_100 M_hab</th>\n",
       "      <th>tx_chomage</th>\n",
       "      <th>tx_urbanisation</th>\n",
       "      <th>densite_2018_(hab/km²)</th>\n",
       "      <th>tx_scolarisation_pop</th>\n",
       "      <th>tx_pop_sans_dipl</th>\n",
       "    </tr>\n",
       "  </thead>\n",
       "  <tbody>\n",
       "    <tr>\n",
       "      <th>0</th>\n",
       "      <td>0</td>\n",
       "      <td>20</td>\n",
       "      <td>18.55</td>\n",
       "      <td>20060.0</td>\n",
       "      <td>3.6</td>\n",
       "      <td>3576.184249</td>\n",
       "      <td>9.425</td>\n",
       "      <td>71.85</td>\n",
       "      <td>39.0</td>\n",
       "      <td>58.633464</td>\n",
       "      <td>31.95</td>\n",
       "    </tr>\n",
       "    <tr>\n",
       "      <th>1</th>\n",
       "      <td>1</td>\n",
       "      <td>1</td>\n",
       "      <td>10.50</td>\n",
       "      <td>22640.0</td>\n",
       "      <td>3.4</td>\n",
       "      <td>3273.801197</td>\n",
       "      <td>6.750</td>\n",
       "      <td>67.00</td>\n",
       "      <td>112.0</td>\n",
       "      <td>58.320593</td>\n",
       "      <td>25.20</td>\n",
       "    </tr>\n",
       "    <tr>\n",
       "      <th>2</th>\n",
       "      <td>2</td>\n",
       "      <td>2</td>\n",
       "      <td>18.50</td>\n",
       "      <td>19100.0</td>\n",
       "      <td>3.1</td>\n",
       "      <td>3752.923347</td>\n",
       "      <td>12.950</td>\n",
       "      <td>53.20</td>\n",
       "      <td>72.0</td>\n",
       "      <td>57.655850</td>\n",
       "      <td>30.70</td>\n",
       "    </tr>\n",
       "    <tr>\n",
       "      <th>3</th>\n",
       "      <td>3</td>\n",
       "      <td>3</td>\n",
       "      <td>15.40</td>\n",
       "      <td>19750.0</td>\n",
       "      <td>3.0</td>\n",
       "      <td>3587.405470</td>\n",
       "      <td>9.675</td>\n",
       "      <td>58.30</td>\n",
       "      <td>46.0</td>\n",
       "      <td>58.484813</td>\n",
       "      <td>37.60</td>\n",
       "    </tr>\n",
       "    <tr>\n",
       "      <th>4</th>\n",
       "      <td>4</td>\n",
       "      <td>4</td>\n",
       "      <td>16.60</td>\n",
       "      <td>19940.0</td>\n",
       "      <td>3.2</td>\n",
       "      <td>4462.068755</td>\n",
       "      <td>10.700</td>\n",
       "      <td>61.90</td>\n",
       "      <td>24.0</td>\n",
       "      <td>58.337452</td>\n",
       "      <td>36.30</td>\n",
       "    </tr>\n",
       "  </tbody>\n",
       "</table>\n",
       "</div>"
      ],
      "text/plain": [
       "   Unnamed: 0  departement  tx_pauvrete  revenu_median  revenu_moyen  \\\n",
       "0           0           20        18.55        20060.0           3.6   \n",
       "1           1            1        10.50        22640.0           3.4   \n",
       "2           2            2        18.50        19100.0           3.1   \n",
       "3           3            3        15.40        19750.0           3.0   \n",
       "4           4            4        16.60        19940.0           3.2   \n",
       "\n",
       "   tx_crim_pour_100 M_hab  tx_chomage  tx_urbanisation  \\\n",
       "0             3576.184249       9.425            71.85   \n",
       "1             3273.801197       6.750            67.00   \n",
       "2             3752.923347      12.950            53.20   \n",
       "3             3587.405470       9.675            58.30   \n",
       "4             4462.068755      10.700            61.90   \n",
       "\n",
       "   densite_2018_(hab/km²)  tx_scolarisation_pop  tx_pop_sans_dipl  \n",
       "0                    39.0             58.633464             31.95  \n",
       "1                   112.0             58.320593             25.20  \n",
       "2                    72.0             57.655850             30.70  \n",
       "3                    46.0             58.484813             37.60  \n",
       "4                    24.0             58.337452             36.30  "
      ]
     },
     "execution_count": 2,
     "metadata": {},
     "output_type": "execute_result"
    }
   ],
   "source": [
    "df=pd.read_csv('projet_finale_vf2.csv')\n",
    "df.head()"
   ]
  },
  {
   "cell_type": "code",
   "execution_count": 3,
   "id": "f92f1f2c",
   "metadata": {},
   "outputs": [
    {
     "name": "stdout",
     "output_type": "stream",
     "text": [
      "Index(['Unnamed: 0', 'departement', 'tx_pauvrete', 'revenu_median',\n",
      "       'revenu_moyen', 'tx_crim_pour_100 M_hab', 'tx_chomage',\n",
      "       'tx_urbanisation', 'densite_2018_(hab/km²)', 'tx_scolarisation_pop',\n",
      "       'tx_pop_sans_dipl'],\n",
      "      dtype='object')\n"
     ]
    }
   ],
   "source": [
    "print(df.columns)"
   ]
  },
  {
   "cell_type": "code",
   "execution_count": 4,
   "id": "bcb1096f",
   "metadata": {},
   "outputs": [
    {
     "data": {
      "text/html": [
       "<div>\n",
       "<style scoped>\n",
       "    .dataframe tbody tr th:only-of-type {\n",
       "        vertical-align: middle;\n",
       "    }\n",
       "\n",
       "    .dataframe tbody tr th {\n",
       "        vertical-align: top;\n",
       "    }\n",
       "\n",
       "    .dataframe thead th {\n",
       "        text-align: right;\n",
       "    }\n",
       "</style>\n",
       "<table border=\"1\" class=\"dataframe\">\n",
       "  <thead>\n",
       "    <tr style=\"text-align: right;\">\n",
       "      <th></th>\n",
       "      <th>departement</th>\n",
       "      <th>tx_pauvrete</th>\n",
       "      <th>revenu_median</th>\n",
       "      <th>revenu_moyen</th>\n",
       "      <th>tx_crim_pour_100 M_hab</th>\n",
       "      <th>tx_chomage</th>\n",
       "      <th>tx_urbanisation</th>\n",
       "      <th>densite_2018_(hab/km²)</th>\n",
       "      <th>tx_scolarisation_pop</th>\n",
       "      <th>tx_pop_sans_dipl</th>\n",
       "    </tr>\n",
       "  </thead>\n",
       "  <tbody>\n",
       "    <tr>\n",
       "      <th>0</th>\n",
       "      <td>20</td>\n",
       "      <td>18.55</td>\n",
       "      <td>20060.0</td>\n",
       "      <td>3.6</td>\n",
       "      <td>3576.184249</td>\n",
       "      <td>9.425</td>\n",
       "      <td>71.85</td>\n",
       "      <td>39.0</td>\n",
       "      <td>58.633464</td>\n",
       "      <td>31.95</td>\n",
       "    </tr>\n",
       "    <tr>\n",
       "      <th>1</th>\n",
       "      <td>1</td>\n",
       "      <td>10.50</td>\n",
       "      <td>22640.0</td>\n",
       "      <td>3.4</td>\n",
       "      <td>3273.801197</td>\n",
       "      <td>6.750</td>\n",
       "      <td>67.00</td>\n",
       "      <td>112.0</td>\n",
       "      <td>58.320593</td>\n",
       "      <td>25.20</td>\n",
       "    </tr>\n",
       "    <tr>\n",
       "      <th>2</th>\n",
       "      <td>2</td>\n",
       "      <td>18.50</td>\n",
       "      <td>19100.0</td>\n",
       "      <td>3.1</td>\n",
       "      <td>3752.923347</td>\n",
       "      <td>12.950</td>\n",
       "      <td>53.20</td>\n",
       "      <td>72.0</td>\n",
       "      <td>57.655850</td>\n",
       "      <td>30.70</td>\n",
       "    </tr>\n",
       "    <tr>\n",
       "      <th>3</th>\n",
       "      <td>3</td>\n",
       "      <td>15.40</td>\n",
       "      <td>19750.0</td>\n",
       "      <td>3.0</td>\n",
       "      <td>3587.405470</td>\n",
       "      <td>9.675</td>\n",
       "      <td>58.30</td>\n",
       "      <td>46.0</td>\n",
       "      <td>58.484813</td>\n",
       "      <td>37.60</td>\n",
       "    </tr>\n",
       "    <tr>\n",
       "      <th>4</th>\n",
       "      <td>4</td>\n",
       "      <td>16.60</td>\n",
       "      <td>19940.0</td>\n",
       "      <td>3.2</td>\n",
       "      <td>4462.068755</td>\n",
       "      <td>10.700</td>\n",
       "      <td>61.90</td>\n",
       "      <td>24.0</td>\n",
       "      <td>58.337452</td>\n",
       "      <td>36.30</td>\n",
       "    </tr>\n",
       "  </tbody>\n",
       "</table>\n",
       "</div>"
      ],
      "text/plain": [
       "   departement  tx_pauvrete  revenu_median  revenu_moyen  \\\n",
       "0           20        18.55        20060.0           3.6   \n",
       "1            1        10.50        22640.0           3.4   \n",
       "2            2        18.50        19100.0           3.1   \n",
       "3            3        15.40        19750.0           3.0   \n",
       "4            4        16.60        19940.0           3.2   \n",
       "\n",
       "   tx_crim_pour_100 M_hab  tx_chomage  tx_urbanisation  \\\n",
       "0             3576.184249       9.425            71.85   \n",
       "1             3273.801197       6.750            67.00   \n",
       "2             3752.923347      12.950            53.20   \n",
       "3             3587.405470       9.675            58.30   \n",
       "4             4462.068755      10.700            61.90   \n",
       "\n",
       "   densite_2018_(hab/km²)  tx_scolarisation_pop  tx_pop_sans_dipl  \n",
       "0                    39.0             58.633464             31.95  \n",
       "1                   112.0             58.320593             25.20  \n",
       "2                    72.0             57.655850             30.70  \n",
       "3                    46.0             58.484813             37.60  \n",
       "4                    24.0             58.337452             36.30  "
      ]
     },
     "execution_count": 4,
     "metadata": {},
     "output_type": "execute_result"
    }
   ],
   "source": [
    "df=df.drop(['Unnamed: 0'],axis=1)\n",
    "df.head()"
   ]
  },
  {
   "cell_type": "code",
   "execution_count": 5,
   "id": "4cac3e43",
   "metadata": {},
   "outputs": [
    {
     "name": "stdout",
     "output_type": "stream",
     "text": [
      "nombre de lignes & de colonnes\n",
      "(95, 10)\n",
      "***********************************************\n",
      "descriptif du dataframe\n",
      "       departement  tx_pauvrete  revenu_median  revenu_moyen  \\\n",
      "count    95.000000    95.000000       95.00000     95.000000   \n",
      "mean     48.000000    14.380526    20788.00000      3.174737   \n",
      "std      27.568098     2.997670     1619.34489      0.486404   \n",
      "min       1.000000     9.100000    17310.00000      2.600000   \n",
      "25%      24.500000    12.350000    19865.00000      2.900000   \n",
      "50%      48.000000    14.300000    20410.00000      3.100000   \n",
      "75%      71.500000    15.450000    21320.00000      3.300000   \n",
      "max      95.000000    27.900000    27400.00000      6.300000   \n",
      "\n",
      "       tx_crim_pour_100 M_hab  tx_chomage  tx_urbanisation  \\\n",
      "count               95.000000   95.000000        95.000000   \n",
      "mean              4132.519919    9.042632        68.030000   \n",
      "std               1385.850369    1.704448        17.712418   \n",
      "min               2325.981963    5.650000        21.400000   \n",
      "25%               3340.740509    7.812500        55.750000   \n",
      "50%               3743.793246    8.825000        66.500000   \n",
      "75%               4573.800218    9.762500        81.300000   \n",
      "max              12747.871340   14.325000       100.000000   \n",
      "\n",
      "       densite_2018_(hab/km²)  tx_scolarisation_pop  tx_pop_sans_dipl  \n",
      "count               95.000000             95.000000         95.000000  \n",
      "mean               572.063158             59.911228         31.518421  \n",
      "std               2455.830699              1.786741          5.034350  \n",
      "min                 15.000000             57.096456         19.300000  \n",
      "25%                 51.500000             58.394544         28.100000  \n",
      "50%                 84.000000             59.565415         31.700000  \n",
      "75%                164.500000             61.337253         35.250000  \n",
      "max              20720.000000             65.120572         41.400000  \n",
      "***********************************************\n",
      "nombre de valeurs null\n",
      "0\n",
      "***********************************************\n",
      "aperçu des 5 premières lignes\n",
      "   departement  tx_pauvrete  revenu_median  revenu_moyen  \\\n",
      "0           20        18.55        20060.0           3.6   \n",
      "1            1        10.50        22640.0           3.4   \n",
      "2            2        18.50        19100.0           3.1   \n",
      "3            3        15.40        19750.0           3.0   \n",
      "4            4        16.60        19940.0           3.2   \n",
      "\n",
      "   tx_crim_pour_100 M_hab  tx_chomage  tx_urbanisation  \\\n",
      "0             3576.184249       9.425            71.85   \n",
      "1             3273.801197       6.750            67.00   \n",
      "2             3752.923347      12.950            53.20   \n",
      "3             3587.405470       9.675            58.30   \n",
      "4             4462.068755      10.700            61.90   \n",
      "\n",
      "   densite_2018_(hab/km²)  tx_scolarisation_pop  tx_pop_sans_dipl  \n",
      "0                    39.0             58.633464             31.95  \n",
      "1                   112.0             58.320593             25.20  \n",
      "2                    72.0             57.655850             30.70  \n",
      "3                    46.0             58.484813             37.60  \n",
      "4                    24.0             58.337452             36.30  \n"
     ]
    }
   ],
   "source": [
    "print('nombre de lignes & de colonnes')\n",
    "print(df.shape)\n",
    "print('***********************************************')\n",
    "print('descriptif du dataframe')\n",
    "print(df.describe(include='all'))\n",
    "print('***********************************************')\n",
    "print('nombre de valeurs null')\n",
    "print(df.isnull().sum().sum())\n",
    "if df.isnull().sum().sum()!=0:\n",
    "    print('nombre de valeur null par colonne')\n",
    "    print(df.isnull().sum())\n",
    "print('***********************************************')\n",
    "print('aperçu des 5 premières lignes')\n",
    "print(df.head())"
   ]
  },
  {
   "cell_type": "code",
   "execution_count": 6,
   "id": "03511d8f",
   "metadata": {},
   "outputs": [
    {
     "name": "stdout",
     "output_type": "stream",
     "text": [
      "   tx_pauvrete  revenu_moyen  tx_crim_pour_100 M_hab  tx_chomage  \\\n",
      "0        18.55           3.6             3576.184249       9.425   \n",
      "1        10.50           3.4             3273.801197       6.750   \n",
      "2        18.50           3.1             3752.923347      12.950   \n",
      "3        15.40           3.0             3587.405470       9.675   \n",
      "4        16.60           3.2             4462.068755      10.700   \n",
      "\n",
      "   tx_urbanisation  densite_2018_(hab/km²)  tx_scolarisation_pop  \\\n",
      "0            71.85                    39.0             58.633464   \n",
      "1            67.00                   112.0             58.320593   \n",
      "2            53.20                    72.0             57.655850   \n",
      "3            58.30                    46.0             58.484813   \n",
      "4            61.90                    24.0             58.337452   \n",
      "\n",
      "   tx_pop_sans_dipl  \n",
      "0             31.95  \n",
      "1             25.20  \n",
      "2             30.70  \n",
      "3             37.60  \n",
      "4             36.30  \n"
     ]
    }
   ],
   "source": [
    "df=df.drop(columns=['departement','revenu_median'],axis=1)\n",
    "print(df.head())"
   ]
  },
  {
   "cell_type": "code",
   "execution_count": 7,
   "id": "0740376d",
   "metadata": {},
   "outputs": [
    {
     "name": "stdout",
     "output_type": "stream",
     "text": [
      "Index(['tx_pauvrete', 'revenu_moyen', 'tx_crim_pour_100 M_hab', 'tx_chomage',\n",
      "       'tx_urbanisation', 'densite_2018_(hab/km²)', 'tx_scolarisation_pop',\n",
      "       'tx_pop_sans_dipl'],\n",
      "      dtype='object')\n"
     ]
    }
   ],
   "source": [
    "print(df.columns)"
   ]
  },
  {
   "cell_type": "markdown",
   "id": "ed077f2f",
   "metadata": {},
   "source": [
    "### caractéristiques TreeRegressor modèle V6.2\n",
    "#max_depth=5,          # profondeur maximale de l’arbre\n",
    "#min_samples_split=5, # min d’échantillons pour un split\n",
    "#min_samples_leaf=2 "
   ]
  },
  {
   "cell_type": "markdown",
   "id": "dc4b496a",
   "metadata": {},
   "source": [
    "##PREPROCESSING - Modèle Socio-eco (mse1)"
   ]
  },
  {
   "cell_type": "code",
   "execution_count": 8,
   "id": "07c57799",
   "metadata": {},
   "outputs": [
    {
     "name": "stdout",
     "output_type": "stream",
     "text": [
      "Splitting dataset into X and Y...\n",
      "...Done.\n",
      "Splitting dataset into train test and test...\n",
      "...Done.\n",
      "---Training pipeline---\n",
      "#### X_train BEFORE preprocessing ####\n",
      "    tx_pauvrete  revenu_moyen  tx_chomage  tx_urbanisation  \\\n",
      "45         14.8           3.1       8.775             39.5   \n",
      "26         12.5           2.9       9.500             55.9   \n",
      "43         10.1           2.9       7.550             84.6   \n",
      "24         11.9           3.2       8.250             65.4   \n",
      "6          15.5           3.8       9.800             95.9   \n",
      "\n",
      "    densite_2018_(hab/km²)  tx_scolarisation_pop  \n",
      "45                    33.0             58.993269  \n",
      "26                    99.0             57.975449  \n",
      "43                   207.0             61.518670  \n",
      "24                   103.0             61.161864  \n",
      "6                    253.0             60.914730  \n",
      "\n",
      "Encoding categorical features and standardizing numerical features...\n",
      "...Done.\n",
      "#### X_mse_train AFTER preprocessing ####\n",
      "[[ 0.23424755 -0.11094161 -0.06736322 -1.69878718 -0.23176585 -0.52553096]\n",
      " [-0.54052013 -0.50310729  0.37319624 -0.71150798 -0.20750791 -1.09414242]\n",
      " [-1.34897337 -0.50310729 -0.81175679  1.01623063 -0.1678131   0.88529893]\n",
      " [-0.74263344  0.08514123 -0.38638904 -0.13960844 -0.20603773  0.68596704]\n",
      " [ 0.47004641  1.26163829  0.5554967   1.69649008 -0.15090605  0.54790421]]\n"
     ]
    }
   ],
   "source": [
    "#SPLIT dataset into X and Y\n",
    "\n",
    "features_list_mse1=['tx_pauvrete', 'revenu_moyen', 'tx_chomage', 'tx_urbanisation', 'densite_2018_(hab/km²)', 'tx_scolarisation_pop']\n",
    "\n",
    "print('Splitting dataset into X and Y...')\n",
    "X_mse1=df[features_list_mse1]\n",
    "\n",
    "y_mse1=df['tx_crim_pour_100 M_hab']\n",
    "print('...Done.')\n",
    "\n",
    "#SPLIT dataset into train test and test...\n",
    "print('Splitting dataset into train test and test...')\n",
    "X_mse1_train,X_mse1_test,y_mse1_train,y_mse1_test=train_test_split(X_mse1,y_mse1,\n",
    "                                                               test_size=0.2,\n",
    "                                                               random_state=0\n",
    "                                                               )\n",
    "print('...Done.')\n",
    "\n",
    "### Training pipeline ###\n",
    "print('---Training pipeline---')\n",
    "\n",
    "# Before preprocessing\n",
    "print(\"#### X_train BEFORE preprocessing ####\")\n",
    "print(X_mse1_train.head())  \n",
    "print()\n",
    "\n",
    "print(\"Encoding categorical features and standardizing numerical features...\")\n",
    "\n",
    "#Preprocessing\n",
    "\n",
    "numeric_transformer = StandardScaler()\n",
    "\n",
    "# Apply ColumnTransformer to create a pipeline that will apply the above preprocessing\n",
    "\n",
    "feature_encoder = ColumnTransformer(\n",
    "    transformers=[\n",
    "        ('num', numeric_transformer, features_list_mse1)\n",
    "    ],\n",
    ")\n",
    "\n",
    "X_mse1_train=feature_encoder.fit_transform(X_mse1_train)\n",
    "X_mse1_test=feature_encoder.transform(X_mse1_test)\n",
    "\n",
    "#Vérification\n",
    "print('...Done.')\n",
    "print(\"#### X_mse_train AFTER preprocessing ####\")\n",
    "print(X_mse1_train[0:5, :])  # affiche les 5 premières lignes\n",
    "\n"
   ]
  },
  {
   "cell_type": "markdown",
   "id": "01a7e664",
   "metadata": {},
   "source": [
    "#BUILD MODEL(mse1)"
   ]
  },
  {
   "cell_type": "code",
   "execution_count": 9,
   "id": "8d30da98",
   "metadata": {},
   "outputs": [
    {
     "name": "stdout",
     "output_type": "stream",
     "text": [
      "Training model...\n",
      "...Done.\n",
      "Predictions on train set...\n",
      "...Done.\n",
      "\n",
      "Réel: 3058.77  →  Prédit: 3032.86\n",
      "Réel: 3459.87  →  Prédit: 3592.87\n",
      "Réel: 5485.09  →  Prédit: 5091.14\n",
      "Réel: 3716.24  →  Prédit: 3900.77\n",
      "Réel: 6036.22  →  Prédit: 6043.75\n",
      "Predictions on test set...\n",
      "...Done.\n",
      "Réel: 3752.92  →  Prédit: 3756.02\n",
      "Réel: 5960.13  →  Prédit: 5091.14\n",
      "Réel: 3565.43  →  Prédit: 3900.77\n",
      "Réel: 3754.38  →  Prédit: 3121.71\n",
      "Réel: 7010.70  →  Prédit: 6043.75\n"
     ]
    }
   ],
   "source": [
    "# Training model\n",
    "print(\"Training model...\")\n",
    "regressor = DecisionTreeRegressor(\n",
    "    random_state=0,\n",
    "    max_depth=5,          # profondeur maximale de l’arbre\n",
    "    min_samples_split=5, # min d’échantillons pour un split\n",
    "    min_samples_leaf=2   # min d’échantillons dans une feuille\n",
    "    )\n",
    "regressor.fit(X_mse1_train, y_mse1_train)\n",
    "print(\"...Done.\")\n",
    "\n",
    "# Predictions on training set\n",
    "print(\"Predictions on train set...\")\n",
    "y_mse1_train_pred = regressor.predict(X_mse1_train)\n",
    "print(\"...Done.\")\n",
    "print()\n",
    "\n",
    "# Afficher les 5 premières prédictions train vs valeurs réelles\n",
    "for vrai, pred in zip(y_mse1_train[:5], y_mse1_train_pred[:5]):\n",
    "    print(f\"Réel: {vrai:.2f}  →  Prédit: {pred:.2f}\")\n",
    "\n",
    "# Predictions on test set\n",
    "print(\"Predictions on test set...\")\n",
    "y_mse1_test_pred = regressor.predict(X_mse1_test)\n",
    "print(\"...Done.\")\n",
    "\n",
    "# Afficher les 5 premières prédictions test vs valeurs réelles\n",
    "for vrai, pred in zip(y_mse1_test[:5], y_mse1_test_pred[:5]):\n",
    "    print(f\"Réel: {vrai:.2f}  →  Prédit: {pred:.2f}\")\n",
    "\n"
   ]
  },
  {
   "cell_type": "markdown",
   "id": "fbbde0d8",
   "metadata": {},
   "source": [
    "#EVALUATE MODEL(mse1)"
   ]
  },
  {
   "cell_type": "code",
   "execution_count": 10,
   "id": "4d481529",
   "metadata": {},
   "outputs": [
    {
     "name": "stdout",
     "output_type": "stream",
     "text": [
      "--- Assessing the performances of the model ---\n",
      "R2 score on training set :  0.7541926134673855\n",
      "R2 score on test set :  0.7037388681420571\n"
     ]
    }
   ],
   "source": [
    "# Performance assessment\n",
    "print(\"--- Assessing the performances of the model ---\")\n",
    "\n",
    "r2_train_mse1=regressor.score(X_mse1_train, y_mse1_train)\n",
    "r2_test_mse1=regressor.score(X_mse1_test, y_mse1_test)\n",
    "\n",
    "# Print R^2 scores\n",
    "print(\"R2 score on training set : \", r2_train_mse1)\n",
    "print(\"R2 score on test set : \", r2_test_mse1)\n"
   ]
  },
  {
   "cell_type": "markdown",
   "id": "05be7d03",
   "metadata": {},
   "source": [
    "#Features Importance(mse1))"
   ]
  },
  {
   "cell_type": "code",
   "execution_count": 11,
   "id": "f50cd56f",
   "metadata": {},
   "outputs": [
    {
     "name": "stdout",
     "output_type": "stream",
     "text": [
      "Importance des features :\n",
      "tx_urbanisation           0.733172\n",
      "densite_2018_(hab/km²)    0.201815\n",
      "revenu_moyen              0.028740\n",
      "tx_scolarisation_pop      0.019405\n",
      "tx_chomage                0.016868\n",
      "tx_pauvrete               0.000000\n",
      "dtype: float64\n"
     ]
    }
   ],
   "source": [
    "# Importance assessment\n",
    "\n",
    "importance_mse1 = pd.Series(regressor.feature_importances_, index=features_list_mse1)\n",
    "importance_mse1.sort_values(ascending=False, inplace=True)\n",
    "print(\"Importance des features :\")\n",
    "print(importance_mse1)\n",
    "\n",
    "df_imp_mse1 = importance_mse1.reset_index()\n",
    "df_imp_mse1.columns = ['Feature', 'Importance']\n",
    "df_imp_mse1['Model'] = 'MSE1'\n"
   ]
  },
  {
   "cell_type": "code",
   "execution_count": 12,
   "id": "5c08ce7c",
   "metadata": {},
   "outputs": [
    {
     "data": {
      "image/png": "[encoded data removed]",
      "text/plain": [
       "<Figure size 640x480 with 1 Axes>"
      ]
     },
     "metadata": {},
     "output_type": "display_data"
    }
   ],
   "source": [
    "#Visualisation Importance\n",
    "importance_mse1.plot(kind='barh')\n",
    "plt.title(\"Importance des features\")\n",
    "plt.show()\n"
   ]
  },
  {
   "cell_type": "markdown",
   "id": "55c761c9",
   "metadata": {},
   "source": [
    "##PREPROCESSING - Modèle Socio-eco - 'taux_pauvrete' (mse1mtp)"
   ]
  },
  {
   "cell_type": "code",
   "execution_count": 13,
   "id": "5135a7f1",
   "metadata": {},
   "outputs": [
    {
     "name": "stdout",
     "output_type": "stream",
     "text": [
      "Splitting dataset into X and Y...\n",
      "...Done.\n",
      "Splitting dataset into train test and test...\n",
      "...Done.\n",
      "---Training pipeline---\n",
      "#### X_train BEFORE preprocessing ####\n",
      "    revenu_moyen  tx_chomage  tx_urbanisation  densite_2018_(hab/km²)  \\\n",
      "45           3.1       8.775             39.5                    33.0   \n",
      "26           2.9       9.500             55.9                    99.0   \n",
      "43           2.9       7.550             84.6                   207.0   \n",
      "24           3.2       8.250             65.4                   103.0   \n",
      "6            3.8       9.800             95.9                   253.0   \n",
      "\n",
      "    tx_scolarisation_pop  \n",
      "45             58.993269  \n",
      "26             57.975449  \n",
      "43             61.518670  \n",
      "24             61.161864  \n",
      "6              60.914730  \n",
      "\n",
      "Encoding categorical features and standardizing numerical features...\n",
      "...Done.\n",
      "#### X_mse_train AFTER preprocessing ####\n",
      "[[-0.11094161 -0.06736322 -1.69878718 -0.23176585 -0.52553096]\n",
      " [-0.50310729  0.37319624 -0.71150798 -0.20750791 -1.09414242]\n",
      " [-0.50310729 -0.81175679  1.01623063 -0.1678131   0.88529893]\n",
      " [ 0.08514123 -0.38638904 -0.13960844 -0.20603773  0.68596704]\n",
      " [ 1.26163829  0.5554967   1.69649008 -0.15090605  0.54790421]]\n"
     ]
    }
   ],
   "source": [
    "#SPLIT dataset into X and Y\n",
    "\n",
    "features_list_mse1mtp=['revenu_moyen', 'tx_chomage', 'tx_urbanisation', 'densite_2018_(hab/km²)', 'tx_scolarisation_pop']\n",
    "\n",
    "print('Splitting dataset into X and Y...')\n",
    "X_mse1mtp=df[features_list_mse1mtp]\n",
    "\n",
    "y_mse1mtp=df['tx_crim_pour_100 M_hab']\n",
    "print('...Done.')\n",
    "\n",
    "#SPLIT dataset into train test and test...\n",
    "print('Splitting dataset into train test and test...')\n",
    "X_mse1mtp_train,X_mse1mtp_test,y_mse1mtp_train,y_mse1mtp_test=train_test_split(X_mse1mtp,y_mse1mtp,\n",
    "                                                               test_size=0.2,\n",
    "                                                               random_state=0\n",
    "                                                               )\n",
    "print('...Done.')\n",
    "\n",
    "### Training pipeline ###\n",
    "print('---Training pipeline---')\n",
    "\n",
    "# Before preprocessing\n",
    "print(\"#### X_train BEFORE preprocessing ####\")\n",
    "print(X_mse1mtp_train.head())  \n",
    "print()\n",
    "\n",
    "print(\"Encoding categorical features and standardizing numerical features...\")\n",
    "\n",
    "#Preprocessing\n",
    "\n",
    "numeric_transformer = StandardScaler()\n",
    "\n",
    "# Apply ColumnTransformer to create a pipeline that will apply the above preprocessing\n",
    "\n",
    "feature_encoder = ColumnTransformer(\n",
    "    transformers=[\n",
    "        ('num', numeric_transformer, features_list_mse1mtp)\n",
    "    ],\n",
    ")\n",
    "\n",
    "X_mse1mtp_train=feature_encoder.fit_transform(X_mse1mtp_train)\n",
    "X_mse1mtp_test=feature_encoder.transform(X_mse1mtp_test)\n",
    "\n",
    "#Vérification\n",
    "print('...Done.')\n",
    "print(\"#### X_mse_train AFTER preprocessing ####\")\n",
    "print(X_mse1mtp_train[0:5, :])  # affiche les 5 premières lignes\n",
    "\n"
   ]
  },
  {
   "cell_type": "markdown",
   "id": "8cd5e52e",
   "metadata": {},
   "source": [
    "#BUILD MODEL(mse1mtp)"
   ]
  },
  {
   "cell_type": "code",
   "execution_count": 14,
   "id": "ae739112",
   "metadata": {},
   "outputs": [
    {
     "name": "stdout",
     "output_type": "stream",
     "text": [
      "Training model...\n",
      "...Done.\n",
      "Predictions on train set...\n",
      "...Done.\n",
      "\n",
      "Réel: 3058.77  →  Prédit: 3032.86\n",
      "Réel: 3459.87  →  Prédit: 3592.87\n",
      "Réel: 5485.09  →  Prédit: 5091.14\n",
      "Réel: 3716.24  →  Prédit: 3900.77\n",
      "Réel: 6036.22  →  Prédit: 6043.75\n",
      "Predictions on test set...\n",
      "...Done.\n",
      "Réel: 3752.92  →  Prédit: 3756.02\n",
      "Réel: 5960.13  →  Prédit: 5091.14\n",
      "Réel: 3565.43  →  Prédit: 3900.77\n",
      "Réel: 3754.38  →  Prédit: 3121.71\n",
      "Réel: 7010.70  →  Prédit: 6043.75\n"
     ]
    }
   ],
   "source": [
    "# Training model\n",
    "print(\"Training model...\")\n",
    "regressor = DecisionTreeRegressor(\n",
    "    random_state=0,\n",
    "    max_depth=5,          # profondeur maximale de l’arbre\n",
    "    min_samples_split=5, # min d’échantillons pour un split\n",
    "    min_samples_leaf=2   # min d’échantillons dans une feuille\n",
    "    )\n",
    "regressor.fit(X_mse1mtp_train, y_mse1mtp_train)\n",
    "print(\"...Done.\")\n",
    "\n",
    "# Predictions on training set\n",
    "print(\"Predictions on train set...\")\n",
    "y_mse1mtp_train_pred = regressor.predict(X_mse1mtp_train)\n",
    "print(\"...Done.\")\n",
    "print()\n",
    "\n",
    "# Afficher les 5 premières prédictions train vs valeurs réelles\n",
    "for vrai, pred in zip(y_mse1mtp_train[:5], y_mse1mtp_train_pred[:5]):\n",
    "    print(f\"Réel: {vrai:.2f}  →  Prédit: {pred:.2f}\")\n",
    "\n",
    "# Predictions on test set\n",
    "print(\"Predictions on test set...\")\n",
    "y_mse1mtp_test_pred = regressor.predict(X_mse1mtp_test)\n",
    "print(\"...Done.\")\n",
    "\n",
    "# Afficher les 5 premières prédictions test vs valeurs réelles\n",
    "for vrai, pred in zip(y_mse1mtp_test[:5], y_mse1mtp_test_pred[:5]):\n",
    "    print(f\"Réel: {vrai:.2f}  →  Prédit: {pred:.2f}\")\n",
    "\n"
   ]
  },
  {
   "cell_type": "markdown",
   "id": "2a9b0f0d",
   "metadata": {},
   "source": [
    "#EVALUATE MODEL(mse1mtp)"
   ]
  },
  {
   "cell_type": "code",
   "execution_count": 15,
   "id": "62e05ab4",
   "metadata": {},
   "outputs": [
    {
     "name": "stdout",
     "output_type": "stream",
     "text": [
      "--- Assessing the performances of the model ---\n",
      "R2 score on training set :  0.7541926134673855\n",
      "R2 score on test set :  0.6932140993915978\n"
     ]
    }
   ],
   "source": [
    "# Performance assessment\n",
    "print(\"--- Assessing the performances of the model ---\")\n",
    "\n",
    "r2_train_mse1mtp=regressor.score(X_mse1mtp_train, y_mse1mtp_train)\n",
    "r2_test_mse1mtp=regressor.score(X_mse1mtp_test, y_mse1mtp_test)\n",
    "\n",
    "# Print R^2 scores\n",
    "print(\"R2 score on training set : \", r2_train_mse1mtp)\n",
    "print(\"R2 score on test set : \", r2_test_mse1mtp)\n"
   ]
  },
  {
   "cell_type": "markdown",
   "id": "7b5af7bd",
   "metadata": {},
   "source": [
    "#Features Importance(mse1mtp)"
   ]
  },
  {
   "cell_type": "code",
   "execution_count": 16,
   "id": "fcaa6031",
   "metadata": {},
   "outputs": [
    {
     "name": "stdout",
     "output_type": "stream",
     "text": [
      "Importance des features :\n",
      "tx_urbanisation           0.734230\n",
      "densite_2018_(hab/km²)    0.200757\n",
      "revenu_moyen              0.028464\n",
      "tx_scolarisation_pop      0.019405\n",
      "tx_chomage                0.017144\n",
      "dtype: float64\n"
     ]
    }
   ],
   "source": [
    "# Importance assessment\n",
    "\n",
    "importance_mse1mtp = pd.Series(regressor.feature_importances_, index=features_list_mse1mtp)\n",
    "importance_mse1mtp.sort_values(ascending=False, inplace=True)\n",
    "print(\"Importance des features :\")\n",
    "print(importance_mse1mtp)\n",
    "\n",
    "df_imp_mse1mtp = importance_mse1mtp.reset_index()\n",
    "df_imp_mse1mtp.columns = ['Feature', 'Importance']\n",
    "df_imp_mse1mtp['Model'] = 'MSE1MTP'\n"
   ]
  },
  {
   "cell_type": "code",
   "execution_count": 17,
   "id": "9665bfa6",
   "metadata": {},
   "outputs": [
    {
     "data": {
      "image/png": "[encoded data removed]",
      "text/plain": [
       "<Figure size 640x480 with 1 Axes>"
      ]
     },
     "metadata": {},
     "output_type": "display_data"
    }
   ],
   "source": [
    "#Visualisation Importance\n",
    "importance_mse1mtp.plot(kind='barh')\n",
    "plt.title(\"Importance des features\")\n",
    "plt.show()\n"
   ]
  },
  {
   "cell_type": "markdown",
   "id": "c82cdb4d",
   "metadata": {},
   "source": [
    "##PREPROCESSING - Modèle Socio-eco (mse2) "
   ]
  },
  {
   "cell_type": "code",
   "execution_count": 18,
   "id": "91ce3748",
   "metadata": {},
   "outputs": [
    {
     "name": "stdout",
     "output_type": "stream",
     "text": [
      "Splitting dataset into X and Y...\n",
      "...Done.\n",
      "Splitting dataset into train test and test...\n",
      "...Done.\n",
      "---Training pipeline---\n",
      "#### X_train BEFORE preprocessing ####\n",
      "    tx_pauvrete  revenu_moyen  tx_chomage  tx_urbanisation  \\\n",
      "45         14.8           3.1       8.775             39.5   \n",
      "26         12.5           2.9       9.500             55.9   \n",
      "43         10.1           2.9       7.550             84.6   \n",
      "24         11.9           3.2       8.250             65.4   \n",
      "6          15.5           3.8       9.800             95.9   \n",
      "\n",
      "    densite_2018_(hab/km²)  tx_pop_sans_dipl  \n",
      "45                    33.0              40.6  \n",
      "26                    99.0              29.3  \n",
      "43                   207.0              27.2  \n",
      "24                   103.0              27.1  \n",
      "6                    253.0              29.9  \n",
      "\n",
      "Encoding categorical features and standardizing numerical features...\n",
      "...Done.\n",
      "#### X_mse_train AFTER preprocessing ####\n",
      "[[ 0.23424755 -0.11094161 -0.06736322 -1.69878718 -0.23176585  1.79400418]\n",
      " [-0.54052013 -0.50310729  0.37319624 -0.71150798 -0.20750791 -0.53772611]\n",
      " [-1.34897337 -0.50310729 -0.81175679  1.01623063 -0.1678131  -0.97105652]\n",
      " [-0.74263344  0.08514123 -0.38638904 -0.13960844 -0.20603773 -0.9916913 ]\n",
      " [ 0.47004641  1.26163829  0.5554967   1.69649008 -0.15090605 -0.41391742]]\n"
     ]
    }
   ],
   "source": [
    "#SPLIT dataset into X and Y\n",
    "\n",
    "features_list_mse2=['tx_pauvrete', 'revenu_moyen', 'tx_chomage', 'tx_urbanisation', 'densite_2018_(hab/km²)', 'tx_pop_sans_dipl']\n",
    "\n",
    "print('Splitting dataset into X and Y...')\n",
    "X_mse2=df[features_list_mse2]\n",
    "\n",
    "y_mse2=df['tx_crim_pour_100 M_hab']\n",
    "print('...Done.')\n",
    "\n",
    "#SPLIT dataset into train test and test...\n",
    "print('Splitting dataset into train test and test...')\n",
    "X_mse2_train,X_mse2_test,y_mse2_train,y_mse2_test=train_test_split(X_mse2,y_mse2,\n",
    "                                                               test_size=0.2,\n",
    "                                                               random_state=0\n",
    "                                                               )\n",
    "print('...Done.')\n",
    "\n",
    "### Training pipeline ###\n",
    "print('---Training pipeline---')\n",
    "\n",
    "# Before preprocessing\n",
    "print(\"#### X_train BEFORE preprocessing ####\")\n",
    "print(X_mse2_train.head())  \n",
    "print()\n",
    "\n",
    "print(\"Encoding categorical features and standardizing numerical features...\")\n",
    "\n",
    "#Preprocessing\n",
    "\n",
    "numeric_transformer = StandardScaler()\n",
    "\n",
    "# Apply ColumnTransformer to create a pipeline that will apply the above preprocessing\n",
    "\n",
    "feature_encoder = ColumnTransformer(\n",
    "    transformers=[\n",
    "        ('num', numeric_transformer, features_list_mse2)\n",
    "    ],\n",
    ")\n",
    "\n",
    "X_mse2_train=feature_encoder.fit_transform(X_mse2_train)\n",
    "X_mse2_test=feature_encoder.transform(X_mse2_test)\n",
    "\n",
    "#Vérification\n",
    "print('...Done.')\n",
    "print(\"#### X_mse_train AFTER preprocessing ####\")\n",
    "print(X_mse2_train[0:5, :])  # affiche les 5 premières lignes\n",
    "\n"
   ]
  },
  {
   "cell_type": "markdown",
   "id": "4e34b127",
   "metadata": {},
   "source": [
    "#BUILD MODEL(mse2)"
   ]
  },
  {
   "cell_type": "code",
   "execution_count": 19,
   "id": "897d24fd",
   "metadata": {},
   "outputs": [
    {
     "name": "stdout",
     "output_type": "stream",
     "text": [
      "Training model...\n",
      "...Done.\n",
      "Predictions on train set...\n",
      "...Done.\n",
      "\n",
      "Réel: 3058.77  →  Prédit: 2997.45\n",
      "Réel: 3459.87  →  Prédit: 3592.87\n",
      "Réel: 5485.09  →  Prédit: 5091.14\n",
      "Réel: 3716.24  →  Prédit: 3900.77\n",
      "Réel: 6036.22  →  Prédit: 6043.75\n",
      "Predictions on test set...\n",
      "...Done.\n",
      "Réel: 3752.92  →  Prédit: 2997.45\n",
      "Réel: 5960.13  →  Prédit: 5091.14\n",
      "Réel: 3565.43  →  Prédit: 3900.77\n",
      "Réel: 3754.38  →  Prédit: 2997.45\n",
      "Réel: 7010.70  →  Prédit: 6043.75\n"
     ]
    }
   ],
   "source": [
    "# Training model\n",
    "print(\"Training model...\")\n",
    "regressor = DecisionTreeRegressor(\n",
    "    random_state=0,\n",
    "    max_depth=5,          # profondeur maximale de l’arbre\n",
    "    min_samples_split=5, # min d’échantillons pour un split\n",
    "    min_samples_leaf=2   # min d’échantillons dans une feuille\n",
    "    )\n",
    "regressor.fit(X_mse2_train, y_mse2_train)\n",
    "print(\"...Done.\")\n",
    "\n",
    "# Predictions on training set\n",
    "print(\"Predictions on train set...\")\n",
    "y_mse2_train_pred = regressor.predict(X_mse2_train)\n",
    "print(\"...Done.\")\n",
    "print()\n",
    "\n",
    "# Afficher les 5 premières prédictions train vs valeurs réelles\n",
    "for vrai, pred in zip(y_mse2_train[:5], y_mse2_train_pred[:5]):\n",
    "    print(f\"Réel: {vrai:.2f}  →  Prédit: {pred:.2f}\")\n",
    "\n",
    "# Predictions on test set\n",
    "print(\"Predictions on test set...\")\n",
    "y_mse2_test_pred = regressor.predict(X_mse2_test)\n",
    "print(\"...Done.\")\n",
    "\n",
    "# Afficher les 5 premières prédictions test vs valeurs réelles\n",
    "for vrai, pred in zip(y_mse2_test[:5], y_mse2_test_pred[:5]):\n",
    "    print(f\"Réel: {vrai:.2f}  →  Prédit: {pred:.2f}\")\n",
    "\n"
   ]
  },
  {
   "cell_type": "markdown",
   "id": "4c434461",
   "metadata": {},
   "source": [
    "#EVALUATE MODEL(mse2)"
   ]
  },
  {
   "cell_type": "code",
   "execution_count": 20,
   "id": "a78f6845",
   "metadata": {},
   "outputs": [
    {
     "name": "stdout",
     "output_type": "stream",
     "text": [
      "--- Assessing the performances of the model ---\n",
      "R2 score on training set :  0.7547598258701272\n",
      "R2 score on test set :  0.6452623070110168\n"
     ]
    }
   ],
   "source": [
    "# Performance assessment\n",
    "print(\"--- Assessing the performances of the model ---\")\n",
    "\n",
    "r2_train_mse2=regressor.score(X_mse2_train, y_mse2_train)\n",
    "r2_test_mse2=regressor.score(X_mse2_test, y_mse2_test)\n",
    "\n",
    "# Print R^2 scores\n",
    "print(\"R2 score on training set : \", r2_train_mse2)\n",
    "print(\"R2 score on test set : \", r2_test_mse2)\n"
   ]
  },
  {
   "cell_type": "markdown",
   "id": "5c2d588b",
   "metadata": {},
   "source": [
    "#Features Importance(mse2)"
   ]
  },
  {
   "cell_type": "code",
   "execution_count": 21,
   "id": "cbe87031",
   "metadata": {},
   "outputs": [
    {
     "name": "stdout",
     "output_type": "stream",
     "text": [
      "Importance des features :\n",
      "tx_urbanisation           0.732621\n",
      "densite_2018_(hab/km²)    0.199219\n",
      "revenu_moyen              0.032850\n",
      "tx_chomage                0.030654\n",
      "tx_pop_sans_dipl          0.004657\n",
      "tx_pauvrete               0.000000\n",
      "dtype: float64\n"
     ]
    }
   ],
   "source": [
    "# Importance assessment\n",
    "\n",
    "importance_mse2 = pd.Series(regressor.feature_importances_, index=features_list_mse2)\n",
    "importance_mse2.sort_values(ascending=False, inplace=True)\n",
    "print(\"Importance des features :\")\n",
    "print(importance_mse2)\n",
    "\n",
    "df_imp_mse2 = importance_mse2.reset_index()\n",
    "df_imp_mse2.columns = ['Feature', 'Importance']\n",
    "df_imp_mse2['Model'] = 'MSE2'\n",
    "\n"
   ]
  },
  {
   "cell_type": "code",
   "execution_count": 22,
   "id": "8e737fea",
   "metadata": {},
   "outputs": [
    {
     "data": {
      "image/png": "[encoded data removed]",
      "text/plain": [
       "<Figure size 640x480 with 1 Axes>"
      ]
     },
     "metadata": {},
     "output_type": "display_data"
    }
   ],
   "source": [
    "#Visualisation Importance\n",
    "\n",
    "importance_mse2.plot(kind='barh')\n",
    "plt.title(\"Importance des features\")\n",
    "plt.show()\n"
   ]
  },
  {
   "cell_type": "markdown",
   "id": "418013b8",
   "metadata": {},
   "source": [
    "##PREPROCESSING - Modèle Socio (ms1)"
   ]
  },
  {
   "cell_type": "code",
   "execution_count": 23,
   "id": "e0bfd6b7",
   "metadata": {},
   "outputs": [
    {
     "name": "stdout",
     "output_type": "stream",
     "text": [
      "Splitting dataset into X and Y...\n",
      "...Done.\n",
      "Splitting dataset into train test and test...\n",
      "...Done.\n",
      "---Training pipeline---\n",
      "#### X_train BEFORE preprocessing ####\n",
      "    tx_urbanisation  densite_2018_(hab/km²)  tx_scolarisation_pop\n",
      "45             39.5                    33.0             58.993269\n",
      "26             55.9                    99.0             57.975449\n",
      "43             84.6                   207.0             61.518670\n",
      "24             65.4                   103.0             61.161864\n",
      "6              95.9                   253.0             60.914730\n",
      "\n",
      "Encoding categorical features and standardizing numerical features...\n",
      "...Done.\n",
      "#### X_ms1_train AFTER preprocessing ####\n",
      "[[-1.69878718 -0.23176585 -0.52553096]\n",
      " [-0.71150798 -0.20750791 -1.09414242]\n",
      " [ 1.01623063 -0.1678131   0.88529893]\n",
      " [-0.13960844 -0.20603773  0.68596704]\n",
      " [ 1.69649008 -0.15090605  0.54790421]]\n"
     ]
    }
   ],
   "source": [
    "#SPLIT dataset into X and Y\n",
    "\n",
    "features_list_ms1=['tx_urbanisation', 'densite_2018_(hab/km²)', 'tx_scolarisation_pop']\n",
    "\n",
    "print('Splitting dataset into X and Y...')\n",
    "X_ms1=df[features_list_ms1]\n",
    "\n",
    "y_ms1=df['tx_crim_pour_100 M_hab']\n",
    "print('...Done.')\n",
    "\n",
    "#SPLIT dataset into train test and test...\n",
    "print('Splitting dataset into train test and test...')\n",
    "X_ms1_train,X_ms1_test,y_ms1_train,y_ms1_test=train_test_split(X_ms1,y_ms1,\n",
    "                                                               test_size=0.2,\n",
    "                                                               random_state=0\n",
    "                                                               )\n",
    "print('...Done.')\n",
    "\n",
    "### Training pipeline ###\n",
    "print('---Training pipeline---')\n",
    "\n",
    "# Before preprocessing\n",
    "print(\"#### X_train BEFORE preprocessing ####\")\n",
    "print(X_ms1_train.head())  \n",
    "print()\n",
    "\n",
    "print(\"Encoding categorical features and standardizing numerical features...\")\n",
    "\n",
    "#Preprocessing\n",
    "\n",
    "numeric_transformer = StandardScaler()\n",
    "\n",
    "# Apply ColumnTransformer to create a pipeline that will apply the above preprocessing\n",
    "\n",
    "feature_encoder = ColumnTransformer(\n",
    "    transformers=[\n",
    "        ('num', numeric_transformer, features_list_ms1)\n",
    "    ],\n",
    ")\n",
    "\n",
    "X_ms1_train=feature_encoder.fit_transform(X_ms1_train)\n",
    "X_ms1_test=feature_encoder.transform(X_ms1_test)\n",
    "\n",
    "#Vérification\n",
    "print('...Done.')\n",
    "print(\"#### X_ms1_train AFTER preprocessing ####\")\n",
    "print(X_ms1_train[0:5, :])  # affiche les 5 premières lignes\n",
    "\n"
   ]
  },
  {
   "cell_type": "markdown",
   "id": "f6f864db",
   "metadata": {},
   "source": [
    "##BUILD MODEL(ms1)"
   ]
  },
  {
   "cell_type": "code",
   "execution_count": 24,
   "id": "f0abad5c",
   "metadata": {},
   "outputs": [
    {
     "name": "stdout",
     "output_type": "stream",
     "text": [
      "Training model...\n",
      "...Done.\n",
      "Predictions on train set...\n",
      "...Done.\n",
      "\n",
      "Réel: 3058.77  →  Prédit: 3032.86\n",
      "Réel: 3459.87  →  Prédit: 3219.19\n",
      "Réel: 5485.09  →  Prédit: 5360.86\n",
      "Réel: 3716.24  →  Prédit: 3824.52\n",
      "Réel: 6036.22  →  Prédit: 6043.75\n",
      "Predictions on test set...\n",
      "...Done.\n",
      "Réel: 3752.92  →  Prédit: 3756.02\n",
      "Réel: 5960.13  →  Prédit: 4993.80\n",
      "Réel: 3565.43  →  Prédit: 3824.52\n",
      "Réel: 3754.38  →  Prédit: 3121.71\n",
      "Réel: 7010.70  →  Prédit: 6043.75\n"
     ]
    }
   ],
   "source": [
    "# Training model\n",
    "print(\"Training model...\")\n",
    "regressor = DecisionTreeRegressor(\n",
    "    random_state=0,\n",
    "    max_depth=5,          # profondeur maximale de l’arbre\n",
    "    min_samples_split=5, # min d’échantillons pour un split\n",
    "    min_samples_leaf=2   # min d’échantillons dans une feuille\n",
    "    )\n",
    "regressor.fit(X_ms1_train, y_ms1_train)\n",
    "print(\"...Done.\")\n",
    "\n",
    "# Predictions on training set\n",
    "print(\"Predictions on train set...\")\n",
    "y_ms1_train_pred = regressor.predict(X_ms1_train)\n",
    "print(\"...Done.\")\n",
    "print()\n",
    "\n",
    "# Afficher les 5 premières prédictions train vs valeurs réelles\n",
    "for vrai, pred in zip(y_ms1_train[:5], y_ms1_train_pred[:5]):\n",
    "    print(f\"Réel: {vrai:.2f}  →  Prédit: {pred:.2f}\")\n",
    "\n",
    "# Predictions on test set\n",
    "print(\"Predictions on test set...\")\n",
    "y_ms1_test_pred = regressor.predict(X_ms1_test)\n",
    "print(\"...Done.\")\n",
    "\n",
    "# Afficher les 5 premières prédictions test vs valeurs réelles\n",
    "for vrai, pred in zip(y_ms1_test[:5], y_ms1_test_pred[:5]):\n",
    "    print(f\"Réel: {vrai:.2f}  →  Prédit: {pred:.2f}\")\n",
    "\n"
   ]
  },
  {
   "cell_type": "markdown",
   "id": "41688dbd",
   "metadata": {},
   "source": [
    "#EVALUATE MODEL(ms1)"
   ]
  },
  {
   "cell_type": "code",
   "execution_count": 25,
   "id": "ec2812f5",
   "metadata": {},
   "outputs": [
    {
     "name": "stdout",
     "output_type": "stream",
     "text": [
      "--- Assessing the performances of the model ---\n",
      "R2 score on training set :  0.7396103567211246\n",
      "R2 score on test set :  0.6418454601854345\n"
     ]
    }
   ],
   "source": [
    "# Performance assessment\n",
    "print(\"--- Assessing the performances of the model ---\")\n",
    "\n",
    "r2_train_ms1=regressor.score(X_ms1_train, y_ms1_train)\n",
    "r2_test_ms1=regressor.score(X_ms1_test, y_ms1_test)\n",
    "\n",
    "# Print R^2 scores\n",
    "print(\"R2 score on training set : \", r2_train_ms1)\n",
    "print(\"R2 score on test set : \", r2_test_ms1)\n"
   ]
  },
  {
   "cell_type": "markdown",
   "id": "a71e2e5c",
   "metadata": {},
   "source": [
    "#Features Importance(ms1)"
   ]
  },
  {
   "cell_type": "code",
   "execution_count": 26,
   "id": "d7d02769",
   "metadata": {},
   "outputs": [
    {
     "name": "stdout",
     "output_type": "stream",
     "text": [
      "Importance des features :\n",
      "tx_urbanisation           0.769052\n",
      "densite_2018_(hab/km²)    0.209576\n",
      "tx_scolarisation_pop      0.021372\n",
      "dtype: float64\n"
     ]
    }
   ],
   "source": [
    "#Importa,ce assessment\n",
    "\n",
    "importance_ms1 = pd.Series(regressor.feature_importances_, index=features_list_ms1)\n",
    "importance_ms1.sort_values(ascending=False, inplace=True)\n",
    "print(\"Importance des features :\")\n",
    "print(importance_ms1)\n",
    "\n",
    "df_imp_ms1 = importance_ms1.reset_index()\n",
    "df_imp_ms1.columns = ['Feature', 'Importance']\n",
    "df_imp_ms1['Model'] = 'MS1'\n",
    "\n"
   ]
  },
  {
   "cell_type": "code",
   "execution_count": 27,
   "id": "4fb284eb",
   "metadata": {},
   "outputs": [
    {
     "data": {
      "image/png": "[encoded data removed]",
      "text/plain": [
       "<Figure size 640x480 with 1 Axes>"
      ]
     },
     "metadata": {},
     "output_type": "display_data"
    }
   ],
   "source": [
    "#Visualisation Importance\n",
    "\n",
    "importance_ms1.plot(kind='barh')\n",
    "plt.title(\"Importance des features\")\n",
    "plt.show()\n"
   ]
  },
  {
   "cell_type": "markdown",
   "id": "8fc75a25",
   "metadata": {},
   "source": [
    "##PREPROCESSING - Modèle Socio (ms2)"
   ]
  },
  {
   "cell_type": "code",
   "execution_count": 28,
   "id": "714dd71a",
   "metadata": {},
   "outputs": [
    {
     "name": "stdout",
     "output_type": "stream",
     "text": [
      "Splitting dataset into X and Y...\n",
      "...Done.\n",
      "Splitting dataset into train test and test...\n",
      "...Done.\n",
      "---Training pipeline---\n",
      "#### X_train BEFORE preprocessing ####\n",
      "    tx_urbanisation  densite_2018_(hab/km²)  tx_pop_sans_dipl\n",
      "45             39.5                    33.0              40.6\n",
      "26             55.9                    99.0              29.3\n",
      "43             84.6                   207.0              27.2\n",
      "24             65.4                   103.0              27.1\n",
      "6              95.9                   253.0              29.9\n",
      "\n",
      "Encoding categorical features and standardizing numerical features...\n",
      "...Done.\n",
      "#### X_ms2_train AFTER preprocessing ####\n",
      "[[-1.69878718 -0.23176585  1.79400418]\n",
      " [-0.71150798 -0.20750791 -0.53772611]\n",
      " [ 1.01623063 -0.1678131  -0.97105652]\n",
      " [-0.13960844 -0.20603773 -0.9916913 ]\n",
      " [ 1.69649008 -0.15090605 -0.41391742]]\n"
     ]
    }
   ],
   "source": [
    "#SPLIT dataset into X and Y\n",
    "\n",
    "features_list_ms2=['tx_urbanisation', 'densite_2018_(hab/km²)', 'tx_pop_sans_dipl']\n",
    "\n",
    "print('Splitting dataset into X and Y...')\n",
    "X_ms2=df[features_list_ms2]\n",
    "\n",
    "y_ms2=df['tx_crim_pour_100 M_hab']\n",
    "print('...Done.')\n",
    "\n",
    "#SPLIT dataset into train test and test...\n",
    "print('Splitting dataset into train test and test...')\n",
    "X_ms2_train,X_ms2_test,y_ms2_train,y_ms2_test=train_test_split(X_ms2,y_ms2,\n",
    "                                                               test_size=0.2,\n",
    "                                                               random_state=0\n",
    "                                                               )\n",
    "print('...Done.')\n",
    "\n",
    "### Training pipeline ###\n",
    "print('---Training pipeline---')\n",
    "\n",
    "# Before preprocessing\n",
    "print(\"#### X_train BEFORE preprocessing ####\")\n",
    "print(X_ms2_train.head())  \n",
    "print()\n",
    "\n",
    "print(\"Encoding categorical features and standardizing numerical features...\")\n",
    "\n",
    "#Preprocessing\n",
    "\n",
    "numeric_transformer = StandardScaler()\n",
    "\n",
    "# Apply ColumnTransformer to create a pipeline that will apply the above preprocessing\n",
    "\n",
    "feature_encoder = ColumnTransformer(\n",
    "    transformers=[\n",
    "        ('num', numeric_transformer, features_list_ms2)\n",
    "    ],\n",
    ")\n",
    "\n",
    "X_ms2_train=feature_encoder.fit_transform(X_ms2_train)\n",
    "X_ms2_test=feature_encoder.transform(X_ms2_test)\n",
    "\n",
    "#Vérification\n",
    "print('...Done.')\n",
    "print(\"#### X_ms2_train AFTER preprocessing ####\")\n",
    "print(X_ms2_train[0:5, :])  # affiche les 5 premières lignes\n",
    "\n"
   ]
  },
  {
   "cell_type": "markdown",
   "id": "147a7bf4",
   "metadata": {},
   "source": [
    "#BUILD MODEL(ms2)"
   ]
  },
  {
   "cell_type": "code",
   "execution_count": 29,
   "id": "193b1cb2",
   "metadata": {},
   "outputs": [
    {
     "name": "stdout",
     "output_type": "stream",
     "text": [
      "Training model...\n",
      "...Done.\n",
      "Predictions on train set...\n",
      "...Done.\n",
      "\n",
      "Réel: 3058.77  →  Prédit: 3154.64\n",
      "Réel: 3459.87  →  Prédit: 3219.19\n",
      "Réel: 5485.09  →  Prédit: 5385.00\n",
      "Réel: 3716.24  →  Prédit: 3824.52\n",
      "Réel: 6036.22  →  Prédit: 6043.75\n",
      "Predictions on test set...\n",
      "...Done.\n",
      "Réel: 3752.92  →  Prédit: 2762.00\n",
      "Réel: 5960.13  →  Prédit: 5385.00\n",
      "Réel: 3565.43  →  Prédit: 3824.52\n",
      "Réel: 3754.38  →  Prédit: 3791.41\n",
      "Réel: 7010.70  →  Prédit: 6043.75\n"
     ]
    }
   ],
   "source": [
    "# Training model\n",
    "print(\"Training model...\")\n",
    "regressor = DecisionTreeRegressor(\n",
    "    random_state=0,\n",
    "    max_depth=5,          # profondeur maximale de l’arbre\n",
    "    min_samples_split=5, # min d’échantillons pour un split\n",
    "    min_samples_leaf=2   # min d’échantillons dans une feuille\n",
    "                                  )\n",
    "regressor.fit(X_ms2_train, y_ms2_train)\n",
    "print(\"...Done.\")\n",
    "\n",
    "# Predictions on training set\n",
    "print(\"Predictions on train set...\")\n",
    "y_ms2_train_pred = regressor.predict(X_ms2_train)\n",
    "print(\"...Done.\")\n",
    "print()\n",
    "\n",
    "# Afficher les 5 premières prédictions train vs valeurs réelles\n",
    "for vrai, pred in zip(y_ms2_train[:5], y_ms2_train_pred[:5]):\n",
    "    print(f\"Réel: {vrai:.2f}  →  Prédit: {pred:.2f}\")\n",
    "\n",
    "# Predictions on test set\n",
    "print(\"Predictions on test set...\")\n",
    "y_ms2_test_pred = regressor.predict(X_ms2_test)\n",
    "print(\"...Done.\")\n",
    "\n",
    "# Afficher les 5 premières prédictions test vs valeurs réelles\n",
    "for vrai, pred in zip(y_ms2_test[:5], y_ms2_test_pred[:5]):\n",
    "    print(f\"Réel: {vrai:.2f}  →  Prédit: {pred:.2f}\")\n",
    "\n"
   ]
  },
  {
   "cell_type": "markdown",
   "id": "17c5aff0",
   "metadata": {},
   "source": [
    "#EVALUATE MODEL(ms2)"
   ]
  },
  {
   "cell_type": "code",
   "execution_count": 30,
   "id": "0a6a68b8",
   "metadata": {},
   "outputs": [
    {
     "name": "stdout",
     "output_type": "stream",
     "text": [
      "--- Assessing the performances of the model ---\n",
      "R2 score on training set :  0.7372269609871687\n",
      "R2 score on test set :  0.6699273735443603\n"
     ]
    }
   ],
   "source": [
    "# Performance assessment\n",
    "print(\"--- Assessing the performances of the model ---\")\n",
    "\n",
    "r2_train_ms2=regressor.score(X_ms2_train, y_ms2_train)\n",
    "r2_test_ms2=regressor.score(X_ms2_test, y_ms2_test)\n",
    "\n",
    "# Print R^2 scores\n",
    "print(\"R2 score on training set : \", r2_train_ms2)\n",
    "print(\"R2 score on test set : \", r2_test_ms2)\n"
   ]
  },
  {
   "cell_type": "markdown",
   "id": "dff29640",
   "metadata": {},
   "source": [
    "#Features Importance(ms2)"
   ]
  },
  {
   "cell_type": "code",
   "execution_count": 31,
   "id": "7789e9bd",
   "metadata": {},
   "outputs": [
    {
     "name": "stdout",
     "output_type": "stream",
     "text": [
      "Importance des features :\n",
      "tx_urbanisation           0.781580\n",
      "densite_2018_(hab/km²)    0.214962\n",
      "tx_pop_sans_dipl          0.003458\n",
      "dtype: float64\n"
     ]
    }
   ],
   "source": [
    "#Importance assessment\n",
    "\n",
    "importance_ms2 = pd.Series(regressor.feature_importances_, index=features_list_ms2)\n",
    "importance_ms2.sort_values(ascending=False, inplace=True)\n",
    "print(\"Importance des features :\")\n",
    "print(importance_ms2)\n",
    "\n",
    "df_imp_ms2 = importance_ms2.reset_index()\n",
    "df_imp_ms2.columns = ['Feature', 'Importance']\n",
    "df_imp_ms2['Model'] = 'MS2'\n",
    "\n"
   ]
  },
  {
   "cell_type": "code",
   "execution_count": 32,
   "id": "f43a65dd",
   "metadata": {},
   "outputs": [
    {
     "data": {
      "image/png": "[encoded data removed]",
      "text/plain": [
       "<Figure size 640x480 with 1 Axes>"
      ]
     },
     "metadata": {},
     "output_type": "display_data"
    }
   ],
   "source": [
    "#Visualisation Importance\n",
    "\n",
    "importance_ms2.plot(kind='barh')\n",
    "plt.title(\"Importance des features\")\n",
    "plt.show()\n"
   ]
  },
  {
   "cell_type": "markdown",
   "id": "af06d0b1",
   "metadata": {},
   "source": [
    "##PREPROCESSING - Modèle Socio + tx chomage (ms1ptc)"
   ]
  },
  {
   "cell_type": "code",
   "execution_count": 33,
   "id": "06f0d6bd",
   "metadata": {},
   "outputs": [
    {
     "name": "stdout",
     "output_type": "stream",
     "text": [
      "Splitting dataset into X and Y...\n",
      "...Done.\n",
      "Splitting dataset into train test and test...\n",
      "...Done.\n",
      "---Training pipeline---\n",
      "#### X_train BEFORE preprocessing ####\n",
      "    tx_chomage  tx_urbanisation  densite_2018_(hab/km²)  tx_scolarisation_pop\n",
      "45       8.775             39.5                    33.0             58.993269\n",
      "26       9.500             55.9                    99.0             57.975449\n",
      "43       7.550             84.6                   207.0             61.518670\n",
      "24       8.250             65.4                   103.0             61.161864\n",
      "6        9.800             95.9                   253.0             60.914730\n",
      "\n",
      "Encoding categorical features and standardizing numerical features...\n",
      "...Done.\n",
      "#### X_ms_train AFTER preprocessing ####\n",
      "[[-0.06736322 -1.69878718 -0.23176585 -0.52553096]\n",
      " [ 0.37319624 -0.71150798 -0.20750791 -1.09414242]\n",
      " [-0.81175679  1.01623063 -0.1678131   0.88529893]\n",
      " [-0.38638904 -0.13960844 -0.20603773  0.68596704]\n",
      " [ 0.5554967   1.69649008 -0.15090605  0.54790421]]\n"
     ]
    }
   ],
   "source": [
    "#SPLIT dataset into X and Y\n",
    "\n",
    "features_list_ms1ptc=['tx_chomage','tx_urbanisation', 'densite_2018_(hab/km²)', 'tx_scolarisation_pop']\n",
    "\n",
    "print('Splitting dataset into X and Y...')\n",
    "X_ms1ptc=df[features_list_ms1ptc]\n",
    "\n",
    "y_ms1ptc=df['tx_crim_pour_100 M_hab']\n",
    "print('...Done.')\n",
    "\n",
    "#SPLIT dataset into train test and test...\n",
    "print('Splitting dataset into train test and test...')\n",
    "X_ms1ptc_train,X_ms1ptc_test,y_ms1ptc_train,y_ms1ptc_test=train_test_split(X_ms1ptc,y_ms1ptc,\n",
    "                                                               test_size=0.2,\n",
    "                                                               random_state=0\n",
    "                                                               )\n",
    "print('...Done.')\n",
    "\n",
    "### Training pipeline ###\n",
    "print('---Training pipeline---')\n",
    "\n",
    "# Before preprocessing\n",
    "print(\"#### X_train BEFORE preprocessing ####\")\n",
    "print(X_ms1ptc_train.head())  \n",
    "print()\n",
    "\n",
    "print(\"Encoding categorical features and standardizing numerical features...\")\n",
    "\n",
    "#Preprocessing\n",
    "\n",
    "numeric_transformer = StandardScaler()\n",
    "\n",
    "# Apply ColumnTransformer to create a pipeline that will apply the above preprocessing\n",
    "\n",
    "feature_encoder = ColumnTransformer(\n",
    "    transformers=[\n",
    "        ('num', numeric_transformer, features_list_ms1ptc)\n",
    "    ],\n",
    ")\n",
    "\n",
    "X_ms1ptc_train=feature_encoder.fit_transform(X_ms1ptc_train)\n",
    "X_ms1ptc_test=feature_encoder.transform(X_ms1ptc_test)\n",
    "\n",
    "#Vérification\n",
    "print('...Done.')\n",
    "print(\"#### X_ms_train AFTER preprocessing ####\")\n",
    "print(X_ms1ptc_train[0:5, :])  # affiche les 5 premières lignes\n",
    "\n"
   ]
  },
  {
   "cell_type": "markdown",
   "id": "9e4bb46b",
   "metadata": {},
   "source": [
    "#BUILD MODEL(ms1ptc)"
   ]
  },
  {
   "cell_type": "code",
   "execution_count": 34,
   "id": "62676667",
   "metadata": {},
   "outputs": [
    {
     "name": "stdout",
     "output_type": "stream",
     "text": [
      "Training model...\n",
      "...Done.\n",
      "Predictions on train set...\n",
      "...Done.\n",
      "\n",
      "Réel: 3058.77  →  Prédit: 3032.86\n",
      "Réel: 3459.87  →  Prédit: 3875.56\n",
      "Réel: 5485.09  →  Prédit: 5091.14\n",
      "Réel: 3716.24  →  Prédit: 3388.16\n",
      "Réel: 6036.22  →  Prédit: 6043.75\n",
      "Predictions on test set...\n",
      "...Done.\n",
      "Réel: 3752.92  →  Prédit: 3756.02\n",
      "Réel: 5960.13  →  Prédit: 5091.14\n",
      "Réel: 3565.43  →  Prédit: 3875.56\n",
      "Réel: 3754.38  →  Prédit: 3121.71\n",
      "Réel: 7010.70  →  Prédit: 6043.75\n"
     ]
    }
   ],
   "source": [
    "# Training model\n",
    "print(\"Training model...\")\n",
    "regressor = DecisionTreeRegressor(\n",
    "    random_state=0,\n",
    "    max_depth=5,          # profondeur maximale de l’arbre\n",
    "    min_samples_split=5, # min d’échantillons pour un split\n",
    "    min_samples_leaf=2   # min d’échantillons dans une feuille\n",
    "    )\n",
    "regressor.fit(X_ms1ptc_train, y_ms1ptc_train)\n",
    "print(\"...Done.\")\n",
    "\n",
    "# Predictions on training set\n",
    "print(\"Predictions on train set...\")\n",
    "y_ms1ptc_train_pred = regressor.predict(X_ms1ptc_train)\n",
    "print(\"...Done.\")\n",
    "print()\n",
    "\n",
    "# Afficher les 5 premières prédictions train vs valeurs réelles\n",
    "for vrai, pred in zip(y_ms1ptc_train[:5], y_ms1ptc_train_pred[:5]):\n",
    "    print(f\"Réel: {vrai:.2f}  →  Prédit: {pred:.2f}\")\n",
    "\n",
    "# Predictions on test set\n",
    "print(\"Predictions on test set...\")\n",
    "y_ms1ptc_test_pred = regressor.predict(X_ms1ptc_test)\n",
    "print(\"...Done.\")\n",
    "\n",
    "# Afficher les 5 premières prédictions test vs valeurs réelles\n",
    "for vrai, pred in zip(y_ms1ptc_test[:5], y_ms1ptc_test_pred[:5]):\n",
    "    print(f\"Réel: {vrai:.2f}  →  Prédit: {pred:.2f}\")\n",
    "\n"
   ]
  },
  {
   "cell_type": "markdown",
   "id": "5e6d30cd",
   "metadata": {},
   "source": [
    "#EVALUATE MODEL(ms1ptc)"
   ]
  },
  {
   "cell_type": "code",
   "execution_count": 35,
   "id": "4ca19e67",
   "metadata": {},
   "outputs": [
    {
     "name": "stdout",
     "output_type": "stream",
     "text": [
      "--- Assessing the performances of the model ---\n",
      "R2 score on training set :  0.7500230275849583\n",
      "R2 score on test set :  0.6889408262878773\n"
     ]
    }
   ],
   "source": [
    "# Performance assessment\n",
    "print(\"--- Assessing the performances of the model ---\")\n",
    "\n",
    "r2_train_ms1ptc=regressor.score(X_ms1ptc_train, y_ms1ptc_train)\n",
    "r2_test_ms1ptc=regressor.score(X_ms1ptc_test, y_ms1ptc_test)\n",
    "\n",
    "# Print R^2 scores\n",
    "print(\"R2 score on training set : \", r2_train_ms1ptc)\n",
    "print(\"R2 score on test set : \", r2_test_ms1ptc)\n"
   ]
  },
  {
   "cell_type": "markdown",
   "id": "49c9a2f7",
   "metadata": {},
   "source": [
    "#Features Importance (ms1ptc)"
   ]
  },
  {
   "cell_type": "code",
   "execution_count": 36,
   "id": "43fcce69",
   "metadata": {},
   "outputs": [
    {
     "name": "stdout",
     "output_type": "stream",
     "text": [
      "Importance des features :\n",
      "tx_urbanisation           0.747075\n",
      "densite_2018_(hab/km²)    0.202597\n",
      "tx_chomage                0.030815\n",
      "tx_scolarisation_pop      0.019513\n",
      "dtype: float64\n"
     ]
    }
   ],
   "source": [
    "#Importance assessment\n",
    "\n",
    "importance_ms1ptc = pd.Series(regressor.feature_importances_, index=features_list_ms1ptc)\n",
    "importance_ms1ptc.sort_values(ascending=False, inplace=True)\n",
    "print(\"Importance des features :\")\n",
    "print(importance_ms1ptc)\n",
    "\n",
    "df_imp_ms1ptc = importance_ms1ptc.reset_index()\n",
    "df_imp_ms1ptc.columns = ['Feature', 'Importance']\n",
    "df_imp_ms1ptc['Model'] = 'MS1PTC'\n",
    "\n"
   ]
  },
  {
   "cell_type": "code",
   "execution_count": 37,
   "id": "fdba439f",
   "metadata": {},
   "outputs": [
    {
     "data": {
      "image/png": "[encoded data removed]",
      "text/plain": [
       "<Figure size 640x480 with 1 Axes>"
      ]
     },
     "metadata": {},
     "output_type": "display_data"
    }
   ],
   "source": [
    "#Visualisation Importance\n",
    "\n",
    "importance_ms1ptc.plot(kind='barh')\n",
    "plt.title(\"Importance des features\")\n",
    "plt.show()\n"
   ]
  },
  {
   "cell_type": "markdown",
   "id": "4ac402dd",
   "metadata": {},
   "source": [
    "##PREPROCESSING - Modèle Socio + tx chomage (ms2ptc)"
   ]
  },
  {
   "cell_type": "code",
   "execution_count": 38,
   "id": "c2e45ee2",
   "metadata": {},
   "outputs": [
    {
     "name": "stdout",
     "output_type": "stream",
     "text": [
      "Splitting dataset into X and Y...\n",
      "...Done.\n",
      "Splitting dataset into train test and test...\n",
      "...Done.\n",
      "---Training pipeline---\n",
      "#### X_train BEFORE preprocessing ####\n",
      "    tx_chomage  tx_urbanisation  densite_2018_(hab/km²)  tx_pop_sans_dipl\n",
      "45       8.775             39.5                    33.0              40.6\n",
      "26       9.500             55.9                    99.0              29.3\n",
      "43       7.550             84.6                   207.0              27.2\n",
      "24       8.250             65.4                   103.0              27.1\n",
      "6        9.800             95.9                   253.0              29.9\n",
      "\n",
      "Encoding categorical features and standardizing numerical features...\n",
      "...Done.\n",
      "#### X_ms_train AFTER preprocessing ####\n",
      "[[-0.06736322 -1.69878718 -0.23176585  1.79400418]\n",
      " [ 0.37319624 -0.71150798 -0.20750791 -0.53772611]\n",
      " [-0.81175679  1.01623063 -0.1678131  -0.97105652]\n",
      " [-0.38638904 -0.13960844 -0.20603773 -0.9916913 ]\n",
      " [ 0.5554967   1.69649008 -0.15090605 -0.41391742]]\n"
     ]
    }
   ],
   "source": [
    "#SPLIT dataset into X and Y\n",
    "\n",
    "features_list_ms2ptc=['tx_chomage','tx_urbanisation', 'densite_2018_(hab/km²)', 'tx_pop_sans_dipl']\n",
    "\n",
    "print('Splitting dataset into X and Y...')\n",
    "X_ms2ptc=df[features_list_ms2ptc]\n",
    "\n",
    "y_ms2ptc=df['tx_crim_pour_100 M_hab']\n",
    "print('...Done.')\n",
    "\n",
    "#SPLIT dataset into train test and test...\n",
    "print('Splitting dataset into train test and test...')\n",
    "X_ms2ptc_train,X_ms2ptc_test,y_ms2ptc_train,y_ms2ptc_test=train_test_split(X_ms2ptc,y_ms2ptc,\n",
    "                                                               test_size=0.2,\n",
    "                                                               random_state=0\n",
    "                                                               )\n",
    "print('...Done.')\n",
    "\n",
    "### Training pipeline ###\n",
    "print('---Training pipeline---')\n",
    "\n",
    "# Before preprocessing\n",
    "print(\"#### X_train BEFORE preprocessing ####\")\n",
    "print(X_ms2ptc_train.head())  \n",
    "print()\n",
    "\n",
    "print(\"Encoding categorical features and standardizing numerical features...\")\n",
    "\n",
    "#Preprocessing\n",
    "\n",
    "numeric_transformer = StandardScaler()\n",
    "\n",
    "# Apply ColumnTransformer to create a pipeline that will apply the above preprocessing\n",
    "\n",
    "feature_encoder = ColumnTransformer(\n",
    "    transformers=[\n",
    "        ('num', numeric_transformer, features_list_ms2ptc)\n",
    "    ],\n",
    ")\n",
    "\n",
    "X_ms2ptc_train=feature_encoder.fit_transform(X_ms2ptc_train)\n",
    "X_ms2ptc_test=feature_encoder.transform(X_ms2ptc_test)\n",
    "\n",
    "#Vérification\n",
    "print('...Done.')\n",
    "print(\"#### X_ms_train AFTER preprocessing ####\")\n",
    "print(X_ms2ptc_train[0:5, :])  # affiche les 5 premières lignes\n",
    "\n"
   ]
  },
  {
   "cell_type": "markdown",
   "id": "102ba8c6",
   "metadata": {},
   "source": [
    "#BUILD MODEL(ms2ptc)"
   ]
  },
  {
   "cell_type": "code",
   "execution_count": 39,
   "id": "c297ec1f",
   "metadata": {},
   "outputs": [
    {
     "name": "stdout",
     "output_type": "stream",
     "text": [
      "Training model...\n",
      "...Done.\n",
      "Predictions on train set...\n",
      "...Done.\n",
      "\n",
      "Réel: 3058.77  →  Prédit: 3178.61\n",
      "Réel: 3459.87  →  Prédit: 3875.56\n",
      "Réel: 5485.09  →  Prédit: 5091.14\n",
      "Réel: 3716.24  →  Prédit: 3884.65\n",
      "Réel: 6036.22  →  Prédit: 6043.75\n",
      "Predictions on test set...\n",
      "...Done.\n",
      "Réel: 3752.92  →  Prédit: 3622.29\n",
      "Réel: 5960.13  →  Prédit: 5091.14\n",
      "Réel: 3565.43  →  Prédit: 3875.56\n",
      "Réel: 3754.38  →  Prédit: 3622.29\n",
      "Réel: 7010.70  →  Prédit: 6043.75\n"
     ]
    }
   ],
   "source": [
    "# Training model\n",
    "print(\"Training model...\")\n",
    "regressor = DecisionTreeRegressor(\n",
    "    random_state=0,\n",
    "    max_depth=5,          # profondeur maximale de l’arbre\n",
    "    min_samples_split=5, # min d’échantillons pour un split\n",
    "    min_samples_leaf=2   # min d’échantillons dans une feuille\n",
    ")\n",
    "regressor.fit(X_ms2ptc_train, y_ms2ptc_train)\n",
    "print(\"...Done.\")\n",
    "\n",
    "# Predictions on training set\n",
    "print(\"Predictions on train set...\")\n",
    "y_ms2ptc_train_pred = regressor.predict(X_ms2ptc_train)\n",
    "print(\"...Done.\")\n",
    "print()\n",
    "\n",
    "# Afficher les 5 premières prédictions train vs valeurs réelles\n",
    "for vrai, pred in zip(y_ms2ptc_train[:5], y_ms2ptc_train_pred[:5]):\n",
    "    print(f\"Réel: {vrai:.2f}  →  Prédit: {pred:.2f}\")\n",
    "\n",
    "# Predictions on test set\n",
    "print(\"Predictions on test set...\")\n",
    "y_ms2ptc_test_pred = regressor.predict(X_ms2ptc_test)\n",
    "print(\"...Done.\")\n",
    "\n",
    "# Afficher les 5 premières prédictions test vs valeurs réelles\n",
    "for vrai, pred in zip(y_ms2ptc_test[:5], y_ms2ptc_test_pred[:5]):\n",
    "    print(f\"Réel: {vrai:.2f}  →  Prédit: {pred:.2f}\")\n",
    "\n"
   ]
  },
  {
   "cell_type": "markdown",
   "id": "624099b5",
   "metadata": {},
   "source": [
    "#EVALUATE MODEL(ms2ptc)"
   ]
  },
  {
   "cell_type": "code",
   "execution_count": 40,
   "id": "0f1f4b6a",
   "metadata": {},
   "outputs": [
    {
     "name": "stdout",
     "output_type": "stream",
     "text": [
      "--- Assessing the performances of the model ---\n",
      "R2 score on training set :  0.7478070353803867\n",
      "R2 score on test set :  -0.039741215808988484\n"
     ]
    }
   ],
   "source": [
    "# Performance assessment\n",
    "print(\"--- Assessing the performances of the model ---\")\n",
    "\n",
    "r2_train_ms2ptc=regressor.score(X_ms2ptc_train, y_ms2ptc_train)\n",
    "r2_test_ms2ptc=regressor.score(X_ms2ptc_test, y_ms2ptc_test)\n",
    "\n",
    "# Print R^2 scores\n",
    "print(\"R2 score on training set : \", r2_train_ms2ptc)\n",
    "print(\"R2 score on test set : \", r2_test_ms2ptc)\n"
   ]
  },
  {
   "cell_type": "markdown",
   "id": "4e7fdfff",
   "metadata": {},
   "source": [
    "#Features Importance (ms2ptc)"
   ]
  },
  {
   "cell_type": "code",
   "execution_count": 41,
   "id": "b2dc7375",
   "metadata": {},
   "outputs": [
    {
     "name": "stdout",
     "output_type": "stream",
     "text": [
      "Importance des features :\n",
      "tx_urbanisation           0.739433\n",
      "tx_pop_sans_dipl          0.208333\n",
      "tx_chomage                0.044833\n",
      "densite_2018_(hab/km²)    0.007401\n",
      "dtype: float64\n"
     ]
    }
   ],
   "source": [
    "# Importance assessment\n",
    "\n",
    "importance_ms2ptc = pd.Series(regressor.feature_importances_, index=features_list_ms2ptc)\n",
    "importance_ms2ptc.sort_values(ascending=False, inplace=True)\n",
    "print(\"Importance des features :\")\n",
    "print(importance_ms2ptc)\n",
    "\n",
    "df_imp_ms2ptc = importance_ms2ptc.reset_index()\n",
    "df_imp_ms2ptc.columns = ['Feature', 'Importance']\n",
    "df_imp_ms2ptc['Model'] = 'MS2PTC'\n",
    "\n"
   ]
  },
  {
   "cell_type": "code",
   "execution_count": 42,
   "id": "d7bb1247",
   "metadata": {},
   "outputs": [
    {
     "data": {
      "image/png": "[encoded data removed]",
      "text/plain": [
       "<Figure size 640x480 with 1 Axes>"
      ]
     },
     "metadata": {},
     "output_type": "display_data"
    }
   ],
   "source": [
    "#Visualisation Importance\n",
    "\n",
    "importance_ms2ptc.plot(kind='barh')\n",
    "plt.title(\"Importance des features\")\n",
    "plt.show()\n"
   ]
  },
  {
   "cell_type": "markdown",
   "id": "b062353e",
   "metadata": {},
   "source": [
    "##PREPROCESSING - Modèle Socio + tx pauvrete (ms1ptp)"
   ]
  },
  {
   "cell_type": "code",
   "execution_count": 43,
   "id": "067e254c",
   "metadata": {},
   "outputs": [
    {
     "name": "stdout",
     "output_type": "stream",
     "text": [
      "Splitting dataset into X and Y...\n",
      "...Done.\n",
      "Splitting dataset into train test and test...\n",
      "...Done.\n",
      "---Training pipeline---\n",
      "#### X_train BEFORE preprocessing ####\n",
      "    tx_pauvrete  tx_urbanisation  densite_2018_(hab/km²)  tx_scolarisation_pop\n",
      "45         14.8             39.5                    33.0             58.993269\n",
      "26         12.5             55.9                    99.0             57.975449\n",
      "43         10.1             84.6                   207.0             61.518670\n",
      "24         11.9             65.4                   103.0             61.161864\n",
      "6          15.5             95.9                   253.0             60.914730\n",
      "\n",
      "Encoding categorical features and standardizing numerical features...\n",
      "...Done.\n",
      "#### X_ms_train AFTER preprocessing ####\n",
      "[[ 0.23424755 -1.69878718 -0.23176585 -0.52553096]\n",
      " [-0.54052013 -0.71150798 -0.20750791 -1.09414242]\n",
      " [-1.34897337  1.01623063 -0.1678131   0.88529893]\n",
      " [-0.74263344 -0.13960844 -0.20603773  0.68596704]\n",
      " [ 0.47004641  1.69649008 -0.15090605  0.54790421]]\n"
     ]
    }
   ],
   "source": [
    "#SPLIT dataset into X and Y\n",
    "\n",
    "features_list_ms1ptp=['tx_pauvrete','tx_urbanisation', 'densite_2018_(hab/km²)', 'tx_scolarisation_pop']\n",
    "\n",
    "print('Splitting dataset into X and Y...')\n",
    "X_ms1ptp=df[features_list_ms1ptp]\n",
    "\n",
    "y_ms1ptp=df['tx_crim_pour_100 M_hab']\n",
    "print('...Done.')\n",
    "\n",
    "#SPLIT dataset into train test and test...\n",
    "print('Splitting dataset into train test and test...')\n",
    "X_ms1ptp_train,X_ms1ptp_test,y_ms1ptp_train,y_ms1ptp_test=train_test_split(X_ms1ptp,y_ms1ptp,\n",
    "                                                               test_size=0.2,\n",
    "                                                               random_state=0\n",
    "                                                               )\n",
    "print('...Done.')\n",
    "\n",
    "### Training pipeline ###\n",
    "print('---Training pipeline---')\n",
    "\n",
    "# Before preprocessing\n",
    "print(\"#### X_train BEFORE preprocessing ####\")\n",
    "print(X_ms1ptp_train.head())  \n",
    "print()\n",
    "\n",
    "print(\"Encoding categorical features and standardizing numerical features...\")\n",
    "\n",
    "#Preprocessing\n",
    "\n",
    "numeric_transformer = StandardScaler()\n",
    "\n",
    "# Apply ColumnTransformer to create a pipeline that will apply the above preprocessing\n",
    "\n",
    "feature_encoder = ColumnTransformer(\n",
    "    transformers=[\n",
    "        ('num', numeric_transformer, features_list_ms1ptp)\n",
    "    ],\n",
    ")\n",
    "\n",
    "X_ms1ptp_train=feature_encoder.fit_transform(X_ms1ptp_train)\n",
    "X_ms1ptp_test=feature_encoder.transform(X_ms1ptp_test)\n",
    "\n",
    "#Vérification\n",
    "print('...Done.')\n",
    "print(\"#### X_ms_train AFTER preprocessing ####\")\n",
    "print(X_ms1ptp_train[0:5, :])  # affiche les 5 premières lignes\n",
    "\n"
   ]
  },
  {
   "cell_type": "markdown",
   "id": "b897f947",
   "metadata": {},
   "source": [
    "#BUILD MODEL(ms1ptp)"
   ]
  },
  {
   "cell_type": "code",
   "execution_count": 44,
   "id": "5c6ebc82",
   "metadata": {},
   "outputs": [
    {
     "name": "stdout",
     "output_type": "stream",
     "text": [
      "Training model...\n",
      "...Done.\n",
      "Predictions on train set...\n",
      "...Done.\n",
      "\n",
      "Réel: 3058.77  →  Prédit: 3032.86\n",
      "Réel: 3459.87  →  Prédit: 3626.95\n",
      "Réel: 5485.09  →  Prédit: 5360.86\n",
      "Réel: 3716.24  →  Prédit: 3626.95\n",
      "Réel: 6036.22  →  Prédit: 6043.75\n",
      "Predictions on test set...\n",
      "...Done.\n",
      "Réel: 3752.92  →  Prédit: 3756.02\n",
      "Réel: 5960.13  →  Prédit: 4993.80\n",
      "Réel: 3565.43  →  Prédit: 3962.81\n",
      "Réel: 3754.38  →  Prédit: 3121.71\n",
      "Réel: 7010.70  →  Prédit: 6043.75\n"
     ]
    }
   ],
   "source": [
    "# Training model\n",
    "print(\"Training model...\")\n",
    "regressor = DecisionTreeRegressor(\n",
    "    random_state=0,\n",
    "    max_depth=5,          # profondeur maximale de l’arbre\n",
    "    min_samples_split=5, # min d’échantillons pour un split\n",
    "    min_samples_leaf=2   # min d’échantillons dans une feuille\n",
    ")\n",
    "regressor.fit(X_ms1ptp_train, y_ms1ptp_train)\n",
    "print(\"...Done.\")\n",
    "\n",
    "# Predictions on training set\n",
    "print(\"Predictions on train set...\")\n",
    "y_ms1ptp_train_pred = regressor.predict(X_ms1ptp_train)\n",
    "print(\"...Done.\")\n",
    "print()\n",
    "\n",
    "# Afficher les 5 premières prédictions train vs valeurs réelles\n",
    "for vrai, pred in zip(y_ms1ptp_train[:5], y_ms1ptp_train_pred[:5]):\n",
    "    print(f\"Réel: {vrai:.2f}  →  Prédit: {pred:.2f}\")\n",
    "\n",
    "# Predictions on test set\n",
    "print(\"Predictions on test set...\")\n",
    "y_ms1ptp_test_pred = regressor.predict(X_ms1ptp_test)\n",
    "print(\"...Done.\")\n",
    "\n",
    "# Afficher les 5 premières prédictions test vs valeurs réelles\n",
    "for vrai, pred in zip(y_ms1ptp_test[:5], y_ms1ptp_test_pred[:5]):\n",
    "    print(f\"Réel: {vrai:.2f}  →  Prédit: {pred:.2f}\")\n",
    "\n"
   ]
  },
  {
   "cell_type": "markdown",
   "id": "4434e532",
   "metadata": {},
   "source": [
    "#EVALUATE MODEL(ms1ptp)"
   ]
  },
  {
   "cell_type": "code",
   "execution_count": 45,
   "id": "be14d532",
   "metadata": {},
   "outputs": [
    {
     "name": "stdout",
     "output_type": "stream",
     "text": [
      "--- Assessing the performances of the model ---\n",
      "R2 score on training set :  0.744127620264003\n",
      "R2 score on test set :  0.6429846177858343\n"
     ]
    }
   ],
   "source": [
    "# Performance assessment\n",
    "print(\"--- Assessing the performances of the model ---\")\n",
    "\n",
    "r2_train_ms1ptp=regressor.score(X_ms1ptp_train, y_ms1ptp_train)\n",
    "r2_test_ms1ptp=regressor.score(X_ms1ptp_test, y_ms1ptp_test)\n",
    "\n",
    "# Print R^2 scores\n",
    "print(\"R2 score on training set : \", r2_train_ms1ptp)\n",
    "print(\"R2 score on test set : \", r2_test_ms1ptp)\n"
   ]
  },
  {
   "cell_type": "markdown",
   "id": "cbe6de38",
   "metadata": {},
   "source": [
    "#Features Importance (ms1ptp)"
   ]
  },
  {
   "cell_type": "code",
   "execution_count": 46,
   "id": "88724f46",
   "metadata": {},
   "outputs": [
    {
     "name": "stdout",
     "output_type": "stream",
     "text": [
      "Importance des features :\n",
      "tx_urbanisation           0.754592\n",
      "densite_2018_(hab/km²)    0.207475\n",
      "tx_scolarisation_pop      0.021242\n",
      "tx_pauvrete               0.016691\n",
      "dtype: float64\n"
     ]
    }
   ],
   "source": [
    "# Importance assessment\n",
    "\n",
    "importance_ms1ptp = pd.Series(regressor.feature_importances_, index=features_list_ms1ptp)\n",
    "importance_ms1ptp.sort_values(ascending=False, inplace=True)\n",
    "print(\"Importance des features :\")\n",
    "print(importance_ms1ptp)\n",
    "\n",
    "df_imp_ms1ptp = importance_ms1ptp.reset_index()\n",
    "df_imp_ms1ptp.columns = ['Feature', 'Importance']\n",
    "df_imp_ms1ptp['Model'] = 'MS1PTP'\n"
   ]
  },
  {
   "cell_type": "code",
   "execution_count": 47,
   "id": "09da5ba4",
   "metadata": {},
   "outputs": [
    {
     "data": {
      "image/png": "[encoded data removed]",
      "text/plain": [
       "<Figure size 640x480 with 1 Axes>"
      ]
     },
     "metadata": {},
     "output_type": "display_data"
    }
   ],
   "source": [
    "#visualisation Importance\n",
    "importance_ms1ptp.plot(kind='barh')\n",
    "plt.title(\"Importance des features\")\n",
    "plt.show()\n"
   ]
  },
  {
   "cell_type": "markdown",
   "id": "61c58614",
   "metadata": {},
   "source": [
    "##PREPROCESSING - Modèle Socio + tx pauvrete (ms2ptp)"
   ]
  },
  {
   "cell_type": "code",
   "execution_count": 48,
   "id": "9c06ecf1",
   "metadata": {},
   "outputs": [
    {
     "name": "stdout",
     "output_type": "stream",
     "text": [
      "Splitting dataset into X and Y...\n",
      "...Done.\n",
      "Splitting dataset into train test and test...\n",
      "...Done.\n",
      "---Training pipeline---\n",
      "#### X_train BEFORE preprocessing ####\n",
      "    tx_pauvrete  tx_urbanisation  densite_2018_(hab/km²)  tx_scolarisation_pop\n",
      "45         14.8             39.5                    33.0             58.993269\n",
      "26         12.5             55.9                    99.0             57.975449\n",
      "43         10.1             84.6                   207.0             61.518670\n",
      "24         11.9             65.4                   103.0             61.161864\n",
      "6          15.5             95.9                   253.0             60.914730\n",
      "\n",
      "Encoding categorical features and standardizing numerical features...\n",
      "...Done.\n",
      "#### X_ms_train AFTER preprocessing ####\n",
      "[[ 0.23424755 -1.69878718 -0.23176585 -0.52553096]\n",
      " [-0.54052013 -0.71150798 -0.20750791 -1.09414242]\n",
      " [-1.34897337  1.01623063 -0.1678131   0.88529893]\n",
      " [-0.74263344 -0.13960844 -0.20603773  0.68596704]\n",
      " [ 0.47004641  1.69649008 -0.15090605  0.54790421]]\n"
     ]
    }
   ],
   "source": [
    "#SPLIT dataset into X and Y\n",
    "\n",
    "features_list_ms2ptp=['tx_pauvrete','tx_urbanisation', 'densite_2018_(hab/km²)', 'tx_scolarisation_pop']\n",
    "\n",
    "print('Splitting dataset into X and Y...')\n",
    "X_ms2ptp=df[features_list_ms2ptp]\n",
    "\n",
    "y_ms2ptp=df['tx_crim_pour_100 M_hab']\n",
    "print('...Done.')\n",
    "\n",
    "#SPLIT dataset into train test and test...\n",
    "print('Splitting dataset into train test and test...')\n",
    "X_ms2ptp_train,X_ms2ptp_test,y_ms2ptp_train,y_ms2ptp_test=train_test_split(X_ms2ptp,y_ms2ptp,\n",
    "                                                               test_size=0.2,\n",
    "                                                               random_state=0\n",
    "                                                               )\n",
    "print('...Done.')\n",
    "\n",
    "### Training pipeline ###\n",
    "print('---Training pipeline---')\n",
    "\n",
    "# Before preprocessing\n",
    "print(\"#### X_train BEFORE preprocessing ####\")\n",
    "print(X_ms2ptp_train.head())  \n",
    "print()\n",
    "\n",
    "print(\"Encoding categorical features and standardizing numerical features...\")\n",
    "\n",
    "#Preprocessing\n",
    "\n",
    "numeric_transformer = StandardScaler()\n",
    "\n",
    "# Apply ColumnTransformer to create a pipeline that will apply the above preprocessing\n",
    "\n",
    "feature_encoder = ColumnTransformer(\n",
    "    transformers=[\n",
    "        ('num', numeric_transformer, features_list_ms2ptp)\n",
    "    ],\n",
    ")\n",
    "\n",
    "X_ms2ptp_train=feature_encoder.fit_transform(X_ms2ptp_train)\n",
    "X_ms2ptp_test=feature_encoder.transform(X_ms2ptp_test)\n",
    "\n",
    "#Vérification\n",
    "print('...Done.')\n",
    "print(\"#### X_ms_train AFTER preprocessing ####\")\n",
    "print(X_ms2ptp_train[0:5, :])  # affiche les 5 premières lignes\n",
    "\n"
   ]
  },
  {
   "cell_type": "markdown",
   "id": "32329ae5",
   "metadata": {},
   "source": [
    "#BUILD MODEL(ms2ptp)"
   ]
  },
  {
   "cell_type": "code",
   "execution_count": 49,
   "id": "be8270cf",
   "metadata": {},
   "outputs": [
    {
     "name": "stdout",
     "output_type": "stream",
     "text": [
      "Training model...\n",
      "...Done.\n",
      "Predictions on train set...\n",
      "...Done.\n",
      "\n",
      "Réel: 3058.77  →  Prédit: 3032.86\n",
      "Réel: 3459.87  →  Prédit: 3626.95\n",
      "Réel: 5485.09  →  Prédit: 5360.86\n",
      "Réel: 3716.24  →  Prédit: 3626.95\n",
      "Réel: 6036.22  →  Prédit: 6043.75\n",
      "Predictions on test set...\n",
      "...Done.\n",
      "Réel: 3752.92  →  Prédit: 3756.02\n",
      "Réel: 5960.13  →  Prédit: 4993.80\n",
      "Réel: 3565.43  →  Prédit: 3962.81\n",
      "Réel: 3754.38  →  Prédit: 3121.71\n",
      "Réel: 7010.70  →  Prédit: 6043.75\n"
     ]
    }
   ],
   "source": [
    "# Training model\n",
    "print(\"Training model...\")\n",
    "regressor = DecisionTreeRegressor(\n",
    "    random_state=0,\n",
    "    max_depth=5,          # profondeur maximale de l’arbre\n",
    "    min_samples_split=5, # min d’échantillons pour un split\n",
    "    min_samples_leaf=2   # min d’échantillons dans une feuille\n",
    ")\n",
    "regressor.fit(X_ms2ptp_train, y_ms2ptp_train)\n",
    "print(\"...Done.\")\n",
    "\n",
    "# Predictions on training set\n",
    "print(\"Predictions on train set...\")\n",
    "y_ms2ptp_train_pred = regressor.predict(X_ms2ptp_train)\n",
    "print(\"...Done.\")\n",
    "print()\n",
    "\n",
    "# Afficher les 5 premières prédictions train vs valeurs réelles\n",
    "for vrai, pred in zip(y_ms2ptp_train[:5], y_ms2ptp_train_pred[:5]):\n",
    "    print(f\"Réel: {vrai:.2f}  →  Prédit: {pred:.2f}\")\n",
    "\n",
    "# Predictions on test set\n",
    "print(\"Predictions on test set...\")\n",
    "y_ms2ptp_test_pred = regressor.predict(X_ms2ptp_test)\n",
    "print(\"...Done.\")\n",
    "\n",
    "# Afficher les 5 premières prédictions test vs valeurs réelles\n",
    "for vrai, pred in zip(y_ms2ptp_test[:5], y_ms2ptp_test_pred[:5]):\n",
    "    print(f\"Réel: {vrai:.2f}  →  Prédit: {pred:.2f}\")\n",
    "\n"
   ]
  },
  {
   "cell_type": "markdown",
   "id": "f0475eb8",
   "metadata": {},
   "source": [
    "#EVALUATE MODEL(ms2ptp)"
   ]
  },
  {
   "cell_type": "code",
   "execution_count": 50,
   "id": "97ac805e",
   "metadata": {},
   "outputs": [
    {
     "name": "stdout",
     "output_type": "stream",
     "text": [
      "--- Assessing the performances of the model ---\n",
      "R2 score on training set :  0.744127620264003\n",
      "R2 score on test set :  0.6429846177858343\n"
     ]
    }
   ],
   "source": [
    "# Performance assessment\n",
    "print(\"--- Assessing the performances of the model ---\")\n",
    "\n",
    "r2_train_ms2ptp=regressor.score(X_ms2ptp_train, y_ms2ptp_train)\n",
    "r2_test_ms2ptp=regressor.score(X_ms2ptp_test, y_ms2ptp_test)\n",
    "\n",
    "# Print R^2 scores\n",
    "print(\"R2 score on training set : \", r2_train_ms2ptp)\n",
    "print(\"R2 score on test set : \", r2_test_ms2ptp)\n"
   ]
  },
  {
   "cell_type": "markdown",
   "id": "4da53840",
   "metadata": {},
   "source": [
    "#Features Importance (ms2ptp)"
   ]
  },
  {
   "cell_type": "code",
   "execution_count": 51,
   "id": "29f8650e",
   "metadata": {},
   "outputs": [
    {
     "name": "stdout",
     "output_type": "stream",
     "text": [
      "Importance des features :\n",
      "tx_urbanisation           0.754592\n",
      "densite_2018_(hab/km²)    0.207475\n",
      "tx_scolarisation_pop      0.021242\n",
      "tx_pauvrete               0.016691\n",
      "dtype: float64\n"
     ]
    }
   ],
   "source": [
    "# Importance assessment\n",
    "\n",
    "importance_ms2ptp = pd.Series(regressor.feature_importances_, index=features_list_ms2ptp)\n",
    "importance_ms2ptp.sort_values(ascending=False, inplace=True)\n",
    "print(\"Importance des features :\")\n",
    "print(importance_ms2ptp)\n",
    "\n",
    "df_imp_ms2ptp = importance_ms2ptp.reset_index()\n",
    "df_imp_ms2ptp.columns = ['Feature', 'Importance']\n",
    "df_imp_ms2ptp['Model'] = 'MS2PTP'\n",
    "\n"
   ]
  },
  {
   "cell_type": "code",
   "execution_count": 52,
   "id": "cfa03fb1",
   "metadata": {},
   "outputs": [
    {
     "data": {
      "image/png": "[encoded data removed]",
      "text/plain": [
       "<Figure size 640x480 with 1 Axes>"
      ]
     },
     "metadata": {},
     "output_type": "display_data"
    }
   ],
   "source": [
    "#Visualisation Importance\n",
    "\n",
    "importance_ms2ptp.plot(kind='barh')\n",
    "plt.title(\"Importance des features\")\n",
    "plt.show()\n"
   ]
  },
  {
   "cell_type": "markdown",
   "id": "43bc11cb",
   "metadata": {},
   "source": [
    "##PREPROCESSING - Modèle Socio1 + Revenu Moyen (ms1prm)"
   ]
  },
  {
   "cell_type": "code",
   "execution_count": 53,
   "id": "32f46ee8",
   "metadata": {},
   "outputs": [
    {
     "name": "stdout",
     "output_type": "stream",
     "text": [
      "Splitting dataset into X and Y...\n",
      "...Done.\n",
      "Splitting dataset into train test and test...\n",
      "...Done.\n",
      "---Training pipeline---\n",
      "#### X_train BEFORE preprocessing ####\n",
      "    revenu_moyen  tx_urbanisation  densite_2018_(hab/km²)  \\\n",
      "45           3.1             39.5                    33.0   \n",
      "26           2.9             55.9                    99.0   \n",
      "43           2.9             84.6                   207.0   \n",
      "24           3.2             65.4                   103.0   \n",
      "6            3.8             95.9                   253.0   \n",
      "\n",
      "    tx_scolarisation_pop  \n",
      "45             58.993269  \n",
      "26             57.975449  \n",
      "43             61.518670  \n",
      "24             61.161864  \n",
      "6              60.914730  \n",
      "\n",
      "Encoding categorical features and standardizing numerical features...\n",
      "...Done.\n",
      "#### X_mse_train AFTER preprocessing ####\n",
      "[[-0.11094161 -1.69878718 -0.23176585 -0.52553096]\n",
      " [-0.50310729 -0.71150798 -0.20750791 -1.09414242]\n",
      " [-0.50310729  1.01623063 -0.1678131   0.88529893]\n",
      " [ 0.08514123 -0.13960844 -0.20603773  0.68596704]\n",
      " [ 1.26163829  1.69649008 -0.15090605  0.54790421]]\n"
     ]
    }
   ],
   "source": [
    "#SPLIT dataset into X and Y\n",
    "\n",
    "features_list_ms1prm=['revenu_moyen', 'tx_urbanisation', 'densite_2018_(hab/km²)', 'tx_scolarisation_pop']\n",
    "\n",
    "print('Splitting dataset into X and Y...')\n",
    "X_ms1prm=df[features_list_ms1prm]\n",
    "\n",
    "y_ms1prm=df['tx_crim_pour_100 M_hab']\n",
    "print('...Done.')\n",
    "\n",
    "#SPLIT dataset into train test and test...\n",
    "print('Splitting dataset into train test and test...')\n",
    "X_ms1prm_train,X_ms1prm_test,y_ms1prm_train,y_ms1prm_test=train_test_split(X_ms1prm,y_ms1prm,\n",
    "                                                               test_size=0.2,\n",
    "                                                               random_state=0\n",
    "                                                               )\n",
    "print('...Done.')\n",
    "\n",
    "### Training pipeline ###\n",
    "print('---Training pipeline---')\n",
    "\n",
    "# Before preprocessing\n",
    "print(\"#### X_train BEFORE preprocessing ####\")\n",
    "print(X_ms1prm_train.head())  \n",
    "print()\n",
    "\n",
    "print(\"Encoding categorical features and standardizing numerical features...\")\n",
    "\n",
    "#Preprocessing\n",
    "\n",
    "numeric_transformer = StandardScaler()\n",
    "\n",
    "# Apply ColumnTransformer to create a pipeline that will apply the above preprocessing\n",
    "\n",
    "feature_encoder = ColumnTransformer(\n",
    "    transformers=[\n",
    "        ('num', numeric_transformer, features_list_ms1prm)\n",
    "    ],\n",
    ")\n",
    "\n",
    "X_ms1prm_train=feature_encoder.fit_transform(X_ms1prm_train)\n",
    "X_ms1prm_test=feature_encoder.transform(X_ms1prm_test)\n",
    "\n",
    "#Vérification\n",
    "print('...Done.')\n",
    "print(\"#### X_mse_train AFTER preprocessing ####\")\n",
    "print(X_ms1prm_train[0:5, :])  # affiche les 5 premières lignes\n",
    "\n"
   ]
  },
  {
   "cell_type": "markdown",
   "id": "1eb17176",
   "metadata": {},
   "source": [
    "#BUILD MODEL(ms1prm)"
   ]
  },
  {
   "cell_type": "code",
   "execution_count": 54,
   "id": "096466f3",
   "metadata": {},
   "outputs": [
    {
     "name": "stdout",
     "output_type": "stream",
     "text": [
      "Training model...\n",
      "...Done.\n",
      "Predictions on train set...\n",
      "...Done.\n",
      "\n",
      "Réel: 3058.77  →  Prédit: 3032.86\n",
      "Réel: 3459.87  →  Prédit: 3448.35\n",
      "Réel: 5485.09  →  Prédit: 5360.86\n",
      "Réel: 3716.24  →  Prédit: 3876.17\n",
      "Réel: 6036.22  →  Prédit: 6043.75\n",
      "Predictions on test set...\n",
      "...Done.\n",
      "Réel: 3752.92  →  Prédit: 3756.02\n",
      "Réel: 5960.13  →  Prédit: 4993.80\n",
      "Réel: 3565.43  →  Prédit: 3876.17\n",
      "Réel: 3754.38  →  Prédit: 3121.71\n",
      "Réel: 7010.70  →  Prédit: 6043.75\n"
     ]
    }
   ],
   "source": [
    "# Training model\n",
    "print(\"Training model...\")\n",
    "regressor = DecisionTreeRegressor(\n",
    "    random_state=0,\n",
    "    max_depth=5,          # profondeur maximale de l’arbre\n",
    "    min_samples_split=5, # min d’échantillons pour un split\n",
    "    min_samples_leaf=2   # min d’échantillons dans une feuille\n",
    "    )\n",
    "regressor.fit(X_ms1prm_train, y_ms1prm_train)\n",
    "print(\"...Done.\")\n",
    "\n",
    "# Predictions on training set\n",
    "print(\"Predictions on train set...\")\n",
    "y_ms1prm_train_pred = regressor.predict(X_ms1prm_train)\n",
    "print(\"...Done.\")\n",
    "print()\n",
    "\n",
    "# Afficher les 5 premières prédictions train vs valeurs réelles\n",
    "for vrai, pred in zip(y_ms1prm_train[:5], y_ms1prm_train_pred[:5]):\n",
    "    print(f\"Réel: {vrai:.2f}  →  Prédit: {pred:.2f}\")\n",
    "\n",
    "# Predictions on test set\n",
    "print(\"Predictions on test set...\")\n",
    "y_ms1prm_test_pred = regressor.predict(X_ms1prm_test)\n",
    "print(\"...Done.\")\n",
    "\n",
    "# Afficher les 5 premières prédictions test vs valeurs réelles\n",
    "for vrai, pred in zip(y_ms1prm_test[:5], y_ms1prm_test_pred[:5]):\n",
    "    print(f\"Réel: {vrai:.2f}  →  Prédit: {pred:.2f}\")\n",
    "\n"
   ]
  },
  {
   "cell_type": "markdown",
   "id": "76f3d764",
   "metadata": {},
   "source": [
    "#EVALUATE MODEL(ms1prm)"
   ]
  },
  {
   "cell_type": "code",
   "execution_count": 55,
   "id": "8cf20e86",
   "metadata": {},
   "outputs": [
    {
     "name": "stdout",
     "output_type": "stream",
     "text": [
      "--- Assessing the performances of the model ---\n",
      "R2 score on training set :  0.7529908664751332\n",
      "R2 score on test set :  0.6689251691540612\n"
     ]
    }
   ],
   "source": [
    "# Performance assessment\n",
    "print(\"--- Assessing the performances of the model ---\")\n",
    "\n",
    "r2_train_ms1prm=regressor.score(X_ms1prm_train, y_ms1prm_train)\n",
    "r2_test_ms1prm=regressor.score(X_ms1prm_test, y_ms1prm_test)\n",
    "\n",
    "# Print R^2 scores\n",
    "print(\"R2 score on training set : \", r2_train_ms1prm)\n",
    "print(\"R2 score on test set : \", r2_test_ms1prm)\n"
   ]
  },
  {
   "cell_type": "markdown",
   "id": "104f9dcb",
   "metadata": {},
   "source": [
    "#Features Importance(ms1prm)"
   ]
  },
  {
   "cell_type": "code",
   "execution_count": 56,
   "id": "286ba19e",
   "metadata": {},
   "outputs": [
    {
     "name": "stdout",
     "output_type": "stream",
     "text": [
      "Importance des features :\n",
      "tx_urbanisation           0.747222\n",
      "densite_2018_(hab/km²)    0.201875\n",
      "revenu_moyen              0.028509\n",
      "tx_scolarisation_pop      0.022394\n",
      "dtype: float64\n"
     ]
    }
   ],
   "source": [
    "# Importance assessment\n",
    "\n",
    "importance_ms1prm = pd.Series(regressor.feature_importances_, index=features_list_ms1prm)\n",
    "importance_ms1prm.sort_values(ascending=False, inplace=True)\n",
    "print(\"Importance des features :\")\n",
    "print(importance_ms1prm)\n",
    "\n",
    "df_imp_ms1prm = importance_ms1prm.reset_index()\n",
    "df_imp_ms1prm.columns = ['Feature', 'Importance']\n",
    "df_imp_ms1prm['Model'] = 'MS1prm'\n"
   ]
  },
  {
   "cell_type": "code",
   "execution_count": 57,
   "id": "e8b17636",
   "metadata": {},
   "outputs": [
    {
     "data": {
      "image/png": "[encoded data removed]",
      "text/plain": [
       "<Figure size 640x480 with 1 Axes>"
      ]
     },
     "metadata": {},
     "output_type": "display_data"
    }
   ],
   "source": [
    "#Visualisation Importance\n",
    "importance_ms1prm.plot(kind='barh')\n",
    "plt.title(\"Importance des features\")\n",
    "plt.show()\n"
   ]
  },
  {
   "cell_type": "markdown",
   "id": "8908bb54",
   "metadata": {},
   "source": [
    "###Regroupement modèles"
   ]
  },
  {
   "cell_type": "code",
   "execution_count": 63,
   "id": "f085f5c7",
   "metadata": {},
   "outputs": [
    {
     "name": "stdout",
     "output_type": "stream",
     "text": [
      "    Model  R2_train   R2_test\n",
      "0    MSE1  0.754193  0.703739\n",
      "9  MSEMTP  0.754193  0.693214\n",
      "4  MS1PTC  0.750023  0.688941\n",
      "3     MS2  0.737227  0.669927\n",
      "8  MS1PRM  0.752991  0.668925\n",
      "1    MSE2  0.754760  0.645262\n",
      "7  MS2PTP  0.744128  0.642985\n",
      "6  MS1PTP  0.744128  0.642985\n",
      "2     MS1  0.739610  0.641845\n",
      "5  MS2PTC  0.747807 -0.039741\n"
     ]
    }
   ],
   "source": [
    "#création dataframe pour stocké resultat R2 par modèle\n",
    "df_results = pd.DataFrame({\n",
    "    'Model': ['MSE1', 'MSE2', 'MS1', 'MS2', 'MS1PTC', 'MS2PTC', 'MS1PTP', 'MS2PTP','MS1PRM','MSEMTP'],\n",
    "    'R2_train': [r2_train_mse1, r2_train_mse2, r2_train_ms1, r2_train_ms2,\n",
    "                 r2_train_ms1ptc, r2_train_ms2ptc, r2_train_ms1ptp, r2_train_ms2ptp,r2_train_ms1prm,r2_train_mse1mtp],\n",
    "    'R2_test':  [r2_test_mse1, r2_test_mse2, r2_test_ms1, r2_test_ms2,\n",
    "                 r2_test_ms1ptc, r2_test_ms2ptc, r2_test_ms1ptp, r2_test_ms2ptp,r2_test_ms1prm,r2_test_mse1mtp]\n",
    "})\n",
    "\n",
    "# Tri par meilleur R2_test\n",
    "df_results = df_results.sort_values(by='R2_test', ascending=False)\n",
    "\n",
    "print(df_results)\n"
   ]
  },
  {
   "cell_type": "markdown",
   "id": "3a383ce9",
   "metadata": {},
   "source": []
  },
  {
   "cell_type": "code",
   "execution_count": 64,
   "id": "6675ae6a",
   "metadata": {},
   "outputs": [
    {
     "data": {
      "image/png": "[encoded data removed]",
      "text/plain": [
       "<Figure size 1200x600 with 1 Axes>"
      ]
     },
     "metadata": {},
     "output_type": "display_data"
    }
   ],
   "source": [
    "#visualisation comparaison R2 par modèle\n",
    "\n",
    "\n",
    "x = np.arange(len(df_results['Model']))  # position des modèles\n",
    "width = 0.35  # largeur des barres\n",
    "\n",
    "fig, ax = plt.subplots(figsize=(12,6))\n",
    "ax.bar(x - width/2, df_results['R2_train'], width, label='R2_train')\n",
    "ax.bar(x + width/2, df_results['R2_test'], width, label='R2_test')\n",
    "\n",
    "ax.set_ylabel('R²')\n",
    "ax.set_xlabel('Modèle')\n",
    "ax.set_title('Comparaison R² Train vs R² Test par modèle')\n",
    "ax.set_xticks(x)\n",
    "ax.set_xticklabels(df_results['Model'])\n",
    "ax.legend()\n",
    "\n",
    "plt.show()\n"
   ]
  },
  {
   "cell_type": "code",
   "execution_count": 65,
   "id": "03d96eea",
   "metadata": {},
   "outputs": [],
   "source": [
    "#création dataframe pour stocké Importance par modèle\n",
    "df_imp = pd.concat([df_imp_mse1, df_imp_mse2, df_imp_ms1, df_imp_ms2,\n",
    "                    df_imp_ms1ptc, df_imp_ms2ptc, df_imp_ms1ptp, df_imp_ms2ptp,df_imp_mse1mtp],axis=0,\n",
    "                   ignore_index=True)\n"
   ]
  },
  {
   "cell_type": "code",
   "execution_count": 66,
   "id": "89e32605",
   "metadata": {},
   "outputs": [
    {
     "data": {
      "image/png": "[encoded data removed]",
      "text/plain": [
       "<Figure size 1200x600 with 1 Axes>"
      ]
     },
     "metadata": {},
     "output_type": "display_data"
    }
   ],
   "source": [
    "#visualisation Importance\n",
    "import seaborn as sns\n",
    "import matplotlib.pyplot as plt\n",
    "\n",
    "plt.figure(figsize=(12,6))\n",
    "sns.barplot(x='Model', y='Importance', hue='Feature', data=df_imp)\n",
    "plt.title('Importance des features par modèle')\n",
    "plt.xticks(rotation=45)\n",
    "plt.legend(bbox_to_anchor=(1.05, 1), loc='upper left')\n",
    "plt.show()\n"
   ]
  }
 ],
 "metadata": {
  "kernelspec": {
   "display_name": "base",
   "language": "python",
   "name": "python3"
  },
  "language_info": {
   "codemirror_mode": {
    "name": "ipython",
    "version": 3
   },
   "file_extension": ".py",
   "mimetype": "text/x-python",
   "name": "python",
   "nbconvert_exporter": "python",
   "pygments_lexer": "ipython3",
   "version": "3.13.5"
  }
 },
 "nbformat": 4,
 "nbformat_minor": 5
}
